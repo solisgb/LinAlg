{
 "cells": [
  {
   "cell_type": "markdown",
   "id": "52812bd9-5033-4d92-a4b2-a88a86848e08",
   "metadata": {},
   "source": [
    "# Chapter 3. Vector Spaces and Subspaces"
   ]
  },
  {
   "cell_type": "markdown",
   "id": "09f9350d-e684-4c5d-a010-8a835e1fa795",
   "metadata": {},
   "source": [
    "## Spaces and Vectors\n",
    "\n",
    "A vector space $V$ is a set that is closed under finite vector addition and scalar multiplication<br>\n",
    "The space $R^n$ consists of all column vectors $v$ with n components. Each component is a real number<br>\n",
    "A vector whose n components are complex numbers lies in the space en $C^n$<br>\n",
    "The two essential vector operations (addition and multiplication) go on inside the vector space, and they produce linear combinations"
   ]
  },
  {
   "cell_type": "markdown",
   "id": "093741a8-75df-45e1-b145-8fabbbd61c66",
   "metadata": {},
   "source": [
    "In order for $V$ to be a vector space, the following conditions must hold for all elements **X,Y,Z** in **V** and any scalars 4r, s in *F* \n",
    "\n",
    "1. Commutativity. **X + Y = Y + X**\n",
    "1. Associativity of vector addition. **(X + Y) + Z = X + (Y + Z)** \n",
    "1. Additive identity. **0 + X = X + 0 = X**\n",
    "1. Additive inverse. For any **X** there exists **-X** such that **X + (-X) = 0**\n",
    "1. Associativity of scalar multiplication. r(s**X**) = (r s) **X**\n",
    "1. Distributivity of scalar sums. (r+s)**X** = r**X** + s**X**\n",
    "1. Distributivity of vector sums r(**X + Y**) = r**X** + r**Y**\n",
    "1. Scalar multiplication identity. **1 X = X**"
   ]
  },
  {
   "cell_type": "markdown",
   "id": "906efcde-aed8-41d9-8708-85add3fb504a",
   "metadata": {},
   "source": [
    "## Subspaces\n",
    "\n",
    "A subspace of a vector space is a set of vectors (including 0) that satisfies two requirements: If v and ware vectors in the subspace and c is any scalar, then: $v + w$ and c$v$ are in the subspace"
   ]
  },
  {
   "cell_type": "markdown",
   "id": "9e7caf61-86fd-498e-80fa-861c9a6ae79a",
   "metadata": {},
   "source": [
    "## The Column Space of $A$\n",
    "\n",
    "The column space consists of all linear combinations of the columns. The combinations are all possible vectors $Ax$. They fill the column space *C(A)*<br>\n",
    "The system $Ax = b$ is solvable if and only if $b$ is in the column space of $A$."
   ]
  },
  {
   "cell_type": "markdown",
   "id": "ec3a9418-415b-4e7d-acd8-8db737bc9dd8",
   "metadata": {},
   "source": [
    "## Null space $N$\n",
    "$Ax = 0$"
   ]
  },
  {
   "cell_type": "code",
   "execution_count": 1,
   "id": "6d16b6f8-1bd8-4ce1-9864-b5f3b41a5bdc",
   "metadata": {},
   "outputs": [
    {
     "name": "stdout",
     "output_type": "stream",
     "text": [
      "error: graphics_toolkit: qt toolkit is not available\n",
      "error: called from\n",
      "    graphics_toolkit at line 88 column 5\n",
      "\n",
      "A =\n",
      "\n",
      "    1    2    2    2\n",
      "    2    4    6    8\n",
      "    3    6    8   10\n",
      "\n"
     ]
    }
   ],
   "source": [
    "A = [1 2 2 2;2 4 6 8; 3 6 8 10]"
   ]
  },
  {
   "cell_type": "code",
   "execution_count": 8,
   "id": "88fcd826-f90d-4338-85ac-235d7a4d896f",
   "metadata": {},
   "outputs": [
    {
     "name": "stdout",
     "output_type": "stream",
     "text": [
      "R1 =\n",
      "\n",
      "    1    2    2    2\n",
      "    0    0    2    4\n",
      "    3    6    8   10\n",
      "\n",
      "R1 =\n",
      "\n",
      "   1   2   2   2\n",
      "   0   0   2   4\n",
      "   0   0   2   4\n",
      "\n",
      "U =\n",
      "\n",
      "   1   2   2   2\n",
      "   0   0   2   4\n",
      "   0   0   0   0\n",
      "\n"
     ]
    }
   ],
   "source": [
    "R1 = A;\n",
    "R1(2,:) = R1(2,:) - A(1,:) .* 2\n",
    "R1(3,:) = R1(3,:) - A(1,:) .* 3\n",
    "R1(3,:) = R1(3,:) - R1(2,:);\n",
    "U = R1"
   ]
  },
  {
   "cell_type": "markdown",
   "id": "c016f1d8-1722-437f-952b-741d9e7c5a0e",
   "metadata": {},
   "source": [
    "U has:\n",
    "* Two pivots columns: 1 and 3\n",
    "* Two free columns: 2 and 4"
   ]
  },
  {
   "cell_type": "code",
   "execution_count": 3,
   "id": "04fba4e9-5e24-4575-bc7a-0ca6637010d9",
   "metadata": {},
   "outputs": [],
   "source": [
    "b = [0 0 0]';"
   ]
  },
  {
   "cell_type": "markdown",
   "id": "8ec4256f-da01-4dcd-997f-ea86038b0e72",
   "metadata": {},
   "source": [
    "We choose 2 convenient values for $x_2=1$ and $x_4=0$, corresponding to the two free columns (2 and 4) and then we solve the problem backwards \n",
    "$x_1 + 2x_2 + 2x_3 + 2x_4 = 0$<br>\n",
    "&emsp; &emsp; &emsp; &emsp; &nbsp; $2x_3 + 4x_4 = 0$\n",
    "\n",
    "Replacing $x_4 = 0$ in the last equation $x_3 = 0$<br>\n",
    "so, in the first equation we have $ x_1 + 2 \\cdot 1 + 2\\cdot 0 + 2\\cdot 0 = 0$<br>\n",
    "$ x_1 = -2$\n",
    "\n",
    "$x =\n",
    "\\begin{bmatrix}\n",
    "  -2 \\\\\n",
    "   1 \\\\\n",
    "   0 \\\\\n",
    "   0 \\\\\n",
    "\\end{bmatrix}\n",
    "$ is a vector in the null space, is a solution of $Ax = 0$. $cx$ are all vector in that direction in N\n"
   ]
  },
  {
   "cell_type": "code",
   "execution_count": 20,
   "id": "e4d3d671-6f36-4c62-a31a-5106e4c2c979",
   "metadata": {},
   "outputs": [
    {
     "name": "stdout",
     "output_type": "stream",
     "text": [
      "ans =\n",
      "\n",
      "   0\n",
      "   0\n",
      "   0\n",
      "\n",
      "ans =\n",
      "\n",
      "   0\n",
      "   0\n",
      "   0\n",
      "\n"
     ]
    }
   ],
   "source": [
    "x = [-2 1 0 0]';\n",
    "[U(:,1)*x(1) + U(:,2)*x(2) + U(:,3)*x(3) + U(:,4)*x(4)]\n",
    "U*x"
   ]
  },
  {
   "cell_type": "markdown",
   "id": "d70ff13f-baa7-4afc-b8d9-a64a2fa7effd",
   "metadata": {},
   "source": [
    "Another convenient vector in the null space is $x_2=0$ and $x_4=1$<br>\n",
    "$x_1 + 2x_2 + 2x_3 + 2x_4 = 0$<br>\n",
    "&emsp; &emsp; &emsp; &emsp; &nbsp; $2x_3 + 4x_4 = 0$\n",
    "\n",
    "Replacing $x_4 = 1$ in the last equation $x_3 = -2$<br>\n",
    "and in the first equation we have $ x_1 + 2 \\cdot 0 + 2 \\cdot -2 + 2 \\cdot 1 = 0$<br>\n",
    "$ x_1 = 2$\n",
    "\n",
    "$xx =\n",
    "\\begin{bmatrix}\n",
    "   2\\\\\n",
    "   0 \\\\\n",
    "  -2 \\\\\n",
    "   1 \\\\\n",
    "\\end{bmatrix}\n",
    "$ is another vector in N, is a spectial solution of $Ax = 0$<br>\n",
    "c"
   ]
  },
  {
   "cell_type": "code",
   "execution_count": 24,
   "id": "0e235697-c51e-4b2d-9d92-68c650ccb07b",
   "metadata": {},
   "outputs": [
    {
     "name": "stdout",
     "output_type": "stream",
     "text": [
      "ans =\n",
      "\n",
      "   0\n",
      "   0\n",
      "   0\n",
      "\n"
     ]
    }
   ],
   "source": [
    "x = [2 0 -2 1]';\n",
    "U*x"
   ]
  },
  {
   "cell_type": "markdown",
   "id": "6b1f7bee-ae51-4c97-b45f-e7410ce7ad89",
   "metadata": {},
   "source": [
    "range, $r= 2$<br>\n",
    "number of free variables $= n - r = 4 - 2$"
   ]
  },
  {
   "cell_type": "markdown",
   "id": "a67ca447-4ca2-4e5f-8841-ee82d39520a2",
   "metadata": {},
   "source": [
    "$c \n",
    "\\begin{bmatrix}\n",
    "  -2\\\\\n",
    "   1 \\\\\n",
    "   0 \\\\\n",
    "   0 \\\\\n",
    "\\end{bmatrix}\n",
    "+\n",
    "d\n",
    "\\begin{bmatrix}\n",
    "   2\\\\\n",
    "   0 \\\\\n",
    "  -2 \\\\\n",
    "   1 \\\\\n",
    "\\end{bmatrix}\n",
    "$<br>\n",
    "are all the solutions in Z\n"
   ]
  },
  {
   "cell_type": "markdown",
   "id": "b55cb7da-efc8-466f-9863-e087a91aa924",
   "metadata": {},
   "source": [
    "## Reduced row echelon form\n",
    "\n",
    "zeros above and below pivots and pivots equal to 1"
   ]
  },
  {
   "cell_type": "code",
   "execution_count": 26,
   "id": "36a606c7-5e9a-421b-a0c1-ad3a4cf957cc",
   "metadata": {},
   "outputs": [
    {
     "name": "stdout",
     "output_type": "stream",
     "text": [
      "U =\n",
      "\n",
      "   1   2   2   2\n",
      "   0   0   2   4\n",
      "   0   0   0   0\n",
      "\n"
     ]
    }
   ],
   "source": [
    "U"
   ]
  },
  {
   "cell_type": "code",
   "execution_count": 27,
   "id": "90f19123-dd36-42ed-a738-f0b3b6aa9da0",
   "metadata": {},
   "outputs": [
    {
     "name": "stdout",
     "output_type": "stream",
     "text": [
      "R =\n",
      "\n",
      "   1   2   0  -2\n",
      "   0   0   2   4\n",
      "   0   0   0   0\n",
      "\n"
     ]
    }
   ],
   "source": [
    "R = U;\n",
    "R(1,:) = R(1,:) - R(2,:)   "
   ]
  },
  {
   "cell_type": "code",
   "execution_count": 28,
   "id": "1c80cf22-9e47-4669-83bc-94b3044384a4",
   "metadata": {},
   "outputs": [
    {
     "name": "stdout",
     "output_type": "stream",
     "text": [
      "R =\n",
      "\n",
      "   1   2   0  -2\n",
      "   0   0   1   2\n",
      "   0   0   0   0\n",
      "\n"
     ]
    }
   ],
   "source": [
    "R(2,:) = R(2,:) ./ 2  "
   ]
  },
  {
   "cell_type": "code",
   "execution_count": 37,
   "id": "7af8ec9c-0004-4765-825e-bc8587d7f2c0",
   "metadata": {},
   "outputs": [
    {
     "name": "stdout",
     "output_type": "stream",
     "text": [
      "R =\n",
      "\n",
      "   1.0000   2.0000        0  -2.0000\n",
      "        0        0   1.0000   2.0000\n",
      "        0        0        0        0\n",
      "\n"
     ]
    }
   ],
   "source": [
    "# we can use the command \n",
    "R = rref(A)"
   ]
  },
  {
   "cell_type": "code",
   "execution_count": 39,
   "id": "f80b6f17-fed0-4c9a-91a0-7c9ff191bda7",
   "metadata": {},
   "outputs": [
    {
     "name": "stdout",
     "output_type": "stream",
     "text": [
      "I =\n",
      "\n",
      "   1   0\n",
      "   0   1\n",
      "\n",
      "F =\n",
      "\n",
      "   2.0000  -2.0000\n",
      "        0   2.0000\n",
      "\n"
     ]
    }
   ],
   "source": [
    "I = [R(1:2,1) R(1:2,3)]\n",
    "F = [R(1:2,2) R(1:2,4)]"
   ]
  },
  {
   "cell_type": "markdown",
   "id": "29ac16db-f1a2-4c93-9cd5-ccb7ff60bdab",
   "metadata": {},
   "source": [
    "We can write $R$ as\n",
    "$R =  \n",
    "\\begin{bmatrix}\n",
    "  I & F\\\\\n",
    "  0 & 0\\\\\n",
    "\\end{bmatrix}$<br>\n",
    "$  \n",
    "\\begin{bmatrix}\n",
    "  I & F\\\\\n",
    "\\end{bmatrix}$ pivot column<br>\n",
    "$  \n",
    "\\begin{bmatrix}\n",
    "  I\\\\\n",
    "  0\\\\\n",
    "\\end{bmatrix}$ pivot column<br>\n",
    "$  \n",
    "\\begin{bmatrix}\n",
    "  F\\\\\n",
    "  0\\\\\n",
    "\\end{bmatrix}$ n - r free column<br>\n"
   ]
  },
  {
   "cell_type": "markdown",
   "id": "27c465ce-32e0-4b0e-b771-bd629b76797f",
   "metadata": {},
   "source": [
    "$Rx = 0$<br>\n",
    "null space matrix N, columns are special solutions<br>\n",
    "$RN=0$<br>\n",
    "$N =   \n",
    "\\begin{bmatrix}\n",
    "  -F\\\\\n",
    "   I\\\\\n",
    "\\end{bmatrix}$<br>\n",
    "  \n"
   ]
  },
  {
   "cell_type": "code",
   "execution_count": 40,
   "id": "5b5d7d69-ea14-45d5-9774-35f563ebcd76",
   "metadata": {},
   "outputs": [
    {
     "name": "stdout",
     "output_type": "stream",
     "text": [
      "B =\n",
      "\n",
      "    1    2    3\n",
      "    2    4    6\n",
      "    2    6    8\n",
      "    2    8   10\n",
      "\n"
     ]
    }
   ],
   "source": [
    "# example\n",
    "B = A'"
   ]
  }
 ],
 "metadata": {
  "kernelspec": {
   "display_name": "Octave",
   "language": "octave",
   "name": "octave"
  },
  "language_info": {
   "file_extension": ".m",
   "help_links": [
    {
     "text": "GNU Octave",
     "url": "https://www.gnu.org/software/octave/support.html"
    },
    {
     "text": "Octave Kernel",
     "url": "https://github.com/Calysto/octave_kernel"
    },
    {
     "text": "MetaKernel Magics",
     "url": "https://metakernel.readthedocs.io/en/latest/source/README.html"
    }
   ],
   "mimetype": "text/x-octave",
   "name": "octave",
   "version": "6.4.0"
  }
 },
 "nbformat": 4,
 "nbformat_minor": 5
}
