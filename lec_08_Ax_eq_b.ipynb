{
 "cells": [
  {
   "cell_type": "markdown",
   "id": "c42e79da-a106-4a4b-8be9-2337f34b3672",
   "metadata": {},
   "source": [
    "# Lecture 8.Solving Ax = b: row reduced form R"
   ]
  },
  {
   "cell_type": "code",
   "execution_count": 2,
   "id": "a1dfdb27-c168-4223-a55f-223a05bbaf21",
   "metadata": {},
   "outputs": [
    {
     "name": "stdout",
     "output_type": "stream",
     "text": [
      "A =\n",
      "\n",
      "    1    2    2    2\n",
      "    2    4    6    8\n",
      "    3    6    8   10\n",
      "\n"
     ]
    }
   ],
   "source": [
    "A = [1 2 2 2;2 4 6 8; 3 6 8 10]"
   ]
  },
  {
   "cell_type": "markdown",
   "id": "f5b8a631-81f8-4d7e-8b2e-6771ee0ac601",
   "metadata": {},
   "source": [
    "&emsp;$x_1 + 2x_2 + 2x_3 + 2x_4 = b_1$<br>\n",
    "$2x_1 + 4x_2 + 6x_3 + 8x_4 = b_2$<br>\n",
    "$3x_1 + 6x_2 + 8x_3 + 10x_4 = b_3$<br>\n",
    "\n",
    "The augmented matrix is = $[A b]$\n",
    "\n",
    "$\n",
    "\\begin{bmatrix}\n",
    "   1 & 2 & 2 & 2 & b_1 \\\\\n",
    "   2 & 4 & 6 & 8 & b_2 \\\\\n",
    "   3 & 6 & 8 & 10 & b_3 \\\\   \n",
    "\\end{bmatrix}$ by eliminatin we have\n",
    "\n",
    "$\\begin{bmatrix}\n",
    "   1 & 2 & 2 & 2 & b_1 \\\\\n",
    "   0 & 0 & 2 & 4 & b_2-2b_1 \\\\\n",
    "   0 & 0 & 2 & 4 & b_3-3b_1 \\\\   \n",
    "\\end{bmatrix} \\rightarrow\n",
    "\\begin{bmatrix}\n",
    "   1 & 2 & 2 & 2 & b_1 \\\\\n",
    "   0 & 0 & 2 & 4 & b_2-2b_1 \\\\\n",
    "   0 & 0 & 0 & 0 & b_3-b_2-b_1 \\\\   \n",
    "\\end{bmatrix}\n",
    "$\n",
    "\n",
    "The last equation is\n",
    "\n",
    "$0 = b_3 - b_2 - b_1$, that's the condition for solvability, and if our numbers happen to have been 1, 5, 6\n",
    "\n",
    "$b = \n",
    "\\begin{bmatrix}\n",
    "   1 \\\\\n",
    "   5 \\\\\n",
    "   6 \\\\   \n",
    "\\end{bmatrix}\n",
    "$\n",
    "\n",
    "$ \\rightarrow\n",
    "\\begin{bmatrix}\n",
    "   1 & 2 & 2 & 2 & 1 \\\\\n",
    "   0 & 0 & 2 & 4 & 3 \\\\\n",
    "   0 & 0 & 0 & 0 & 0 \\\\   \n",
    "\\end{bmatrix}\n",
    "$\n",
    "\n"
   ]
  },
  {
   "cell_type": "markdown",
   "id": "04403533-408b-45dd-93e0-073c0d1ff26c",
   "metadata": {},
   "source": [
    "## Solvability. Condition on b\n",
    "\n",
    "Ax = b solvable when:\n",
    "\n",
    "* b in in C(A)\n",
    "* If a comb. of the rows of A gives 0 row, then the same comb. of the components of b must give 0\n",
    "\n",
    "The two statements are equivalent"
   ]
  },
  {
   "cell_type": "markdown",
   "id": "2f83062c-c603-4e3f-b124-b40f7d2fdbe6",
   "metadata": {},
   "source": [
    "### To find the complete sol'n to Ax=b\n",
    "\n",
    "1.- One particular solution $x_{particular}$: \n",
    "\n",
    "* Set all free variables to zero<br>\n",
    "* Solve Ax=b for pivot variables\n",
    "\n",
    "In our example:\n",
    "\n",
    "Free variables $x_2 = 0$ and $x_4 = 0$\n",
    "\n",
    "$ x_1 + 2x_3 = 1$<br>\n",
    "$\\hspace{1cm} 2x_3 = 3$<br>\n",
    "$x_3 = 3/2 \\ and \\ x_1 = -2$\n",
    "\n",
    "\n",
    "$x_{particular} = x_p = \n",
    "\\begin{bmatrix}\n",
    "   -2 \\\\\n",
    "    0 \\\\\n",
    "   3/2 \\\\\n",
    "    0 \\\\   \n",
    "\\end{bmatrix}\n",
    "$\n",
    "\n",
    "How I find the rest?\n",
    "\n",
    "2.- $x_{nullspace} = x_n$: \n",
    "\n",
    "The complete solution $x$ will be $x = x_p + x_n$\n",
    "\n",
    "$Ax_p = b$<br>\n",
    "$Ax_n = 0$<br>\n",
    "$A(x_p + x_n) = b$<br>\n",
    "\n",
    "$x_c = \n",
    "\\begin{bmatrix}\n",
    "   -2 \\\\\n",
    "    0 \\\\\n",
    "   3/2 \\\\\n",
    "    0 \\\\   \n",
    "\\end{bmatrix}\n",
    "+ c_1\n",
    "\\begin{bmatrix}\n",
    "   -2 \\\\\n",
    "    1 \\\\\n",
    "    0 \\\\\n",
    "    0 \\\\   \n",
    "\\end{bmatrix}\n",
    "+ c_2\n",
    "\\begin{bmatrix}\n",
    "    2 \\\\\n",
    "    0 \\\\\n",
    "   -2 \\\\\n",
    "    1 \\\\   \n",
    "\\end{bmatrix}\n",
    "$\n"
   ]
  },
  {
   "cell_type": "markdown",
   "id": "6d741675-1fbe-4e4d-b44f-285096936b40",
   "metadata": {},
   "source": [
    "We have a $m times n$ matrix $A$ o rank r (know $r \\leq m, r \\leq n$) \n",
    "\n",
    "Full column ranls $r=n$: No free variables. $N(A)=0, zero vectot$<br>\n",
    "$x_c = x_p$, unique solution if it exists\n",
    "\n",
    "#### Example\n"
   ]
  },
  {
   "cell_type": "code",
   "execution_count": 9,
   "id": "afc14cc2-09af-4c23-bbd5-006ba13431b2",
   "metadata": {},
   "outputs": [
    {
     "name": "stdout",
     "output_type": "stream",
     "text": [
      "A =\n",
      "\n",
      "   1   3\n",
      "   2   1\n",
      "   6   1\n",
      "   5   1\n",
      "\n"
     ]
    }
   ],
   "source": [
    "A = [1 2 6 5 3 1 1 1]; %full column rank\n",
    "A = reshape(A, [4 2])"
   ]
  },
  {
   "cell_type": "code",
   "execution_count": 8,
   "id": "ce83373d-37e5-4d0b-9866-9682055b25ab",
   "metadata": {},
   "outputs": [
    {
     "name": "stdout",
     "output_type": "stream",
     "text": [
      "R =\n",
      "\n",
      "   1   0\n",
      "   0   1\n",
      "   0   0\n",
      "   0   0\n",
      "\n"
     ]
    }
   ],
   "source": [
    "R = rref(A)"
   ]
  },
  {
   "cell_type": "markdown",
   "id": "747aad17-448f-4415-8ce9-f18b37602bbb",
   "metadata": {},
   "source": [
    "Particular solution: sum of column1 and column 2\n",
    "\n",
    "$ b = \n",
    "\\begin{bmatrix}\n",
    "    4 \\\\\n",
    "    3 \\\\\n",
    "    7 \\\\\n",
    "    6 \\\\   \n",
    "\\end{bmatrix}\n",
    "$\n"
   ]
  },
  {
   "cell_type": "markdown",
   "id": "252c964e-cc33-4b3b-a445-938f25599488",
   "metadata": {},
   "source": [
    "#### Example\n",
    "\n",
    "Full row rank $r = m, m$ pivots\n",
    "\n",
    "$Ax = b$ for every b\n",
    "\n",
    "Left with $n - m$ free variables"
   ]
  },
  {
   "cell_type": "code",
   "execution_count": 2,
   "id": "2328c99a-eaa1-4cf4-a2f7-5f83eb51501a",
   "metadata": {},
   "outputs": [
    {
     "name": "stdout",
     "output_type": "stream",
     "text": [
      "A =\n",
      "\n",
      "   1   2   6   5\n",
      "   3   1   1   1\n",
      "\n"
     ]
    }
   ],
   "source": [
    "A = [1 2 6 5; 3 1 1 1]"
   ]
  },
  {
   "cell_type": "code",
   "execution_count": 3,
   "id": "3a9057c3-4353-4328-9aa3-de5960839113",
   "metadata": {},
   "outputs": [
    {
     "name": "stdout",
     "output_type": "stream",
     "text": [
      "ans = 2\n"
     ]
    }
   ],
   "source": [
    "rank(A)"
   ]
  },
  {
   "cell_type": "code",
   "execution_count": 6,
   "id": "063cfc80-4155-4af4-b276-7da099d4643d",
   "metadata": {},
   "outputs": [
    {
     "name": "stdout",
     "output_type": "stream",
     "text": [
      "R =\n",
      "\n",
      "   1.0000        0  -0.8000  -0.6000\n",
      "        0   1.0000   3.4000   2.8000\n",
      "\n"
     ]
    }
   ],
   "source": [
    "R = rref(A)"
   ]
  },
  {
   "cell_type": "code",
   "execution_count": 8,
   "id": "b53d93c4-4b08-4837-996e-d2417179216c",
   "metadata": {},
   "outputs": [
    {
     "name": "stdout",
     "output_type": "stream",
     "text": [
      "F =\n",
      "\n",
      "  -0.8000  -0.6000\n",
      "   3.4000   2.8000\n",
      "\n"
     ]
    }
   ],
   "source": [
    "F = [R(1,3:4); R(2,3:4)]"
   ]
  },
  {
   "cell_type": "markdown",
   "id": "7a5280ed-d54c-4571-93ba-80d73af79539",
   "metadata": {},
   "source": [
    "and we look for solutions in $N$"
   ]
  },
  {
   "cell_type": "markdown",
   "id": "d570fb78-21fd-4b9b-b66a-7cef52c53ebf",
   "metadata": {},
   "source": [
    "#### Exercise \n",
    "\n",
    "$r =m = n$\n",
    "\n",
    "A is invertible"
   ]
  },
  {
   "cell_type": "code",
   "execution_count": 10,
   "id": "4c1e3faf-d6e3-4af2-ae14-c981c4134f3f",
   "metadata": {},
   "outputs": [
    {
     "name": "stdout",
     "output_type": "stream",
     "text": [
      "A =\n",
      "\n",
      "   1   2\n",
      "   3   1\n",
      "\n"
     ]
    }
   ],
   "source": [
    "A = [ 1 2; 3 1]"
   ]
  },
  {
   "cell_type": "code",
   "execution_count": 12,
   "id": "d6f8dd26-abee-4c14-a446-02b1d168a8b6",
   "metadata": {},
   "outputs": [
    {
     "name": "stdout",
     "output_type": "stream",
     "text": [
      "ans = 2\n"
     ]
    }
   ],
   "source": [
    "rank(A) % full rank"
   ]
  },
  {
   "cell_type": "code",
   "execution_count": 14,
   "id": "4a8ccf64-2c09-4660-a63f-80297449851d",
   "metadata": {},
   "outputs": [
    {
     "name": "stdout",
     "output_type": "stream",
     "text": [
      "R =\n",
      "\n",
      "   1   0\n",
      "   0   1\n",
      "\n"
     ]
    }
   ],
   "source": [
    "R = rref(A) % identity matrix"
   ]
  },
  {
   "cell_type": "markdown",
   "id": "96ac0d8a-4f06-4e1e-97a3-bcdcca2d9fa5",
   "metadata": {},
   "source": [
    "The null space of A is vector 0\n",
    "\n",
    "no condition in b"
   ]
  },
  {
   "cell_type": "markdown",
   "id": "a8685202-683c-4692-ba63-6e8e07164fd9",
   "metadata": {},
   "source": [
    "## Summary"
   ]
  },
  {
   "cell_type": "markdown",
   "id": "66c0e38b-d104-4d6d-8373-6c83e487d9ef",
   "metadata": {},
   "source": [
    "1. $r = m = n: R = I$, 1 solution\n",
    "1. $ r = n < m. R = \n",
    "\\begin{bmatrix}\n",
    "    I \\\\\n",
    "    0 \\\\\n",
    "\\end{bmatrix}$, 0 or 1 solution\n",
    "1. $r = m < n. \n",
    "\\begin{bmatrix}\n",
    "    I & 0\\\\\n",
    "\\end{bmatrix}$, full row rank, the F could be part of I, 1 or $\\infty$ solutions \n",
    "1. $r <n and r<n. R =\n",
    "\\begin{bmatrix}\n",
    "    I & F\\\\\n",
    "    0 & 0\\\\    \n",
    "\\end{bmatrix}$, 0 or $\\infty$ solutions\n",
    "\n",
    "Rank tell us everything about the number of solutions\n"
   ]
  }
 ],
 "metadata": {
  "kernelspec": {
   "display_name": "Octave",
   "language": "octave",
   "name": "octave"
  },
  "language_info": {
   "file_extension": ".m",
   "help_links": [
    {
     "text": "GNU Octave",
     "url": "https://www.gnu.org/software/octave/support.html"
    },
    {
     "text": "Octave Kernel",
     "url": "https://github.com/Calysto/octave_kernel"
    },
    {
     "text": "MetaKernel Magics",
     "url": "https://metakernel.readthedocs.io/en/latest/source/README.html"
    }
   ],
   "mimetype": "text/x-octave",
   "name": "octave",
   "version": "6.4.0"
  }
 },
 "nbformat": 4,
 "nbformat_minor": 5
}
