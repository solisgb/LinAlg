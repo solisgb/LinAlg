{
 "cells": [
  {
   "cell_type": "markdown",
   "id": "cb40d7e2-0442-4791-944d-c0f062ced390",
   "metadata": {
    "tags": []
   },
   "source": [
    "# Linear Algebra. Chapter 3\n",
    "## Matrix multiplication"
   ]
  },
  {
   "cell_type": "code",
   "execution_count": 1,
   "id": "54a50706-dae1-464c-ad20-cee77c7f2191",
   "metadata": {},
   "outputs": [],
   "source": [
    "A = rand(3,3);\n",
    "B = rand(3,3);"
   ]
  },
  {
   "cell_type": "code",
   "execution_count": 2,
   "id": "45c5caaa-53d7-4c53-8d87-03c49706fc02",
   "metadata": {},
   "outputs": [
    {
     "name": "stdout",
     "output_type": "stream",
     "text": [
      "   0.4530   0.5037   0.5858\n",
      "   0.5940   0.6560   0.8198\n",
      "   0.4608   0.4134   0.5032\n"
     ]
    }
   ],
   "source": [
    "AB = A * B;\n",
    "disp(AB)"
   ]
  },
  {
   "cell_type": "code",
   "execution_count": 3,
   "id": "0d4ec529-69bb-4d22-b919-ef2dc0cd5f8d",
   "metadata": {},
   "outputs": [
    {
     "name": "stdout",
     "output_type": "stream",
     "text": [
      "   0.4530   0.5037   0.5858\n",
      "   0.5940   0.6560   0.8198\n",
      "   0.4608   0.4134   0.5032\n"
     ]
    }
   ],
   "source": [
    "# 1. The entry in row i and column j of AB is (row i of A) · ( column j of B)\n",
    "[r,c] = size(A);\n",
    "AB = nan(r, c);\n",
    "for i = 1:r\n",
    "     for j = 1:c\n",
    "         AB(i,j) = dot(A(i,:), B(:,j));\n",
    "     end\n",
    " end\n",
    " disp(AB)"
   ]
  },
  {
   "cell_type": "code",
   "execution_count": 4,
   "id": "ee8abd87-ce8c-40d6-a9d0-eb56a6738366",
   "metadata": {},
   "outputs": [
    {
     "name": "stdout",
     "output_type": "stream",
     "text": [
      "   0.4530   0.5037   0.5858\n",
      "   0.5940   0.6560   0.8198\n",
      "   0.4608   0.4134   0.5032\n"
     ]
    }
   ],
   "source": [
    "# 2. Matrix A times every column of B\n",
    "AB = [A * B(:,1),A * B(:,2),A * B(:,3)];\n",
    "disp(AB)"
   ]
  },
  {
   "cell_type": "code",
   "execution_count": 5,
   "id": "f4f64667-019b-47be-84f2-c2c546a84238",
   "metadata": {},
   "outputs": [
    {
     "name": "stdout",
     "output_type": "stream",
     "text": [
      "   0.4530   0.5037   0.5858\n",
      "   0.5940   0.6560   0.8198\n",
      "   0.4608   0.4134   0.5032\n"
     ]
    }
   ],
   "source": [
    "# 3. Every row of A times matrix B\n",
    "AB = [A(1,:)*B; A(2,:)*B; A(3,:)*B];\n",
    "disp(AB)"
   ]
  },
  {
   "cell_type": "code",
   "execution_count": 6,
   "id": "a5114a34-ac81-4189-89df-cab4dad8f546",
   "metadata": {},
   "outputs": [
    {
     "name": "stdout",
     "output_type": "stream",
     "text": [
      "   0.4530   0.5037   0.5858\n",
      "   0.5940   0.6560   0.8198\n",
      "   0.4608   0.4134   0.5032\n"
     ]
    }
   ],
   "source": [
    "# 4. Multiply columns 1 to n of A times rows 1 to n of B. Add those matrices\n",
    "AB = zeros(r, c);\n",
    "for i = 1:r\n",
    "     AB = AB + (A(:,i) * B(i,:));\n",
    " end\n",
    " disp(AB)"
   ]
  },
  {
   "cell_type": "markdown",
   "id": "05aaf12f-e241-4697-9eb1-46c269b39f76",
   "metadata": {},
   "source": [
    "## The Matrix Form of One Elimination Step"
   ]
  },
  {
   "cell_type": "code",
   "execution_count": 7,
   "id": "4402bf5d-0585-48fd-8eea-26241ffa06c7",
   "metadata": {},
   "outputs": [
    {
     "name": "stdout",
     "output_type": "stream",
     "text": [
      "    2    4   -2    2\n",
      "    4    9   -3    8\n",
      "   -2   -3    7   19\n"
     ]
    }
   ],
   "source": [
    "A = [2, 4, -2; 4, 9, -3; -2, -3, 7];\n",
    "b = [2; 8; 19];\n",
    "Ab=[A,b];\n",
    "disp(Ab)"
   ]
  },
  {
   "cell_type": "code",
   "execution_count": 8,
   "id": "39fbc1b7-78db-4e24-8c2a-0cd781a3bf89",
   "metadata": {},
   "outputs": [
    {
     "name": "stdout",
     "output_type": "stream",
     "text": [
      "error: 'Ab21' undefined near line 1, column 1\n"
     ]
    }
   ],
   "source": [
    "E21 = eye(size(A));\n",
    "E21(2,1) = -2;\n",
    "Ab1 = E21*Ab;\n",
    "disp(Ab21)"
   ]
  },
  {
   "cell_type": "code",
   "execution_count": 9,
   "id": "af8550ff-e468-4ba2-9ebf-1843832649e0",
   "metadata": {},
   "outputs": [
    {
     "name": "stdout",
     "output_type": "stream",
     "text": [
      "    2    4   -2    2\n",
      "    0    1    1    4\n",
      "    0    1    5   21\n"
     ]
    }
   ],
   "source": [
    "E31 = eye(size(A));\n",
    "E31(3,1) = 1;\n",
    "Ab2 = E31*Ab1;\n",
    "disp(Ab2)"
   ]
  },
  {
   "cell_type": "code",
   "execution_count": 10,
   "id": "dd06fb93-6227-4ec0-bf4e-3eb2d96e0595",
   "metadata": {},
   "outputs": [
    {
     "name": "stdout",
     "output_type": "stream",
     "text": [
      "    2    4   -2    2\n",
      "    0    1    1    4\n",
      "    0    0    4   17\n"
     ]
    }
   ],
   "source": [
    "E32 = eye(size(A));\n",
    "E32(3,2) = -1;\n",
    "Ab3=E32*Ab2;\n",
    "disp(Ab3)"
   ]
  },
  {
   "cell_type": "code",
   "execution_count": 11,
   "id": "809a482e-798f-4772-b036-bf5687fb5ba7",
   "metadata": {},
   "outputs": [
    {
     "name": "stdout",
     "output_type": "stream",
     "text": [
      "   1   0   0\n",
      "  -2   1   0\n",
      "   3  -1   1\n"
     ]
    }
   ],
   "source": [
    "E=E32*E31*E21;\n",
    "disp(E)"
   ]
  },
  {
   "cell_type": "code",
   "execution_count": 12,
   "id": "5a1b9456-005a-4c32-ae43-9a7937f67712",
   "metadata": {},
   "outputs": [
    {
     "name": "stdout",
     "output_type": "stream",
     "text": [
      "    2    4   -2    2\n",
      "    0    1    1    4\n",
      "    0    0    4   17\n"
     ]
    }
   ],
   "source": [
    "disp(E*Ab)"
   ]
  },
  {
   "cell_type": "markdown",
   "id": "7fba84a6-eec6-419f-ac84-80cea35cb1b9",
   "metadata": {},
   "source": [
    "## Inverse matrix"
   ]
  },
  {
   "cell_type": "markdown",
   "id": "d0b8334d-ed79-4ab4-8bc1-ae5a4aeef956",
   "metadata": {},
   "source": [
    "### Calculating $A^{-1}$ by Gauss-Jordan elimination"
   ]
  },
  {
   "cell_type": "code",
   "execution_count": 13,
   "id": "3588cbea-1604-4de4-b6dc-3c6a411193e6",
   "metadata": {},
   "outputs": [],
   "source": [
    "K = [2, -1, 0; -1, 2, -1; 0, -1, 2 ];\n",
    "E = eye(size(K));"
   ]
  },
  {
   "cell_type": "code",
   "execution_count": 14,
   "id": "f59c21af-68f8-411d-924f-243ca6afe783",
   "metadata": {},
   "outputs": [
    {
     "name": "stdout",
     "output_type": "stream",
     "text": [
      "   2  -1   0   1   0   0\n",
      "  -1   2  -1   0   1   0\n",
      "   0  -1   2   0   0   1\n"
     ]
    }
   ],
   "source": [
    "A = [K, E];  # same as [K, E(:,1), E(:,2), E(:,3)];\n",
    "disp(A)"
   ]
  },
  {
   "cell_type": "markdown",
   "id": "d755fb7a-9db1-4de5-8bc5-1f1755c03bfc",
   "metadata": {},
   "source": [
    "#### Gauss elimination"
   ]
  },
  {
   "cell_type": "code",
   "execution_count": 15,
   "id": "1657eb64-6d3e-4f01-8add-102dd9e7dfe3",
   "metadata": {},
   "outputs": [
    {
     "name": "stdout",
     "output_type": "stream",
     "text": [
      "   2.0000  -1.0000        0   1.0000        0        0\n",
      "        0   1.5000  -1.0000   0.5000   1.0000        0\n",
      "        0  -1.0000   2.0000        0        0   1.0000\n"
     ]
    }
   ],
   "source": [
    "E21 = eye(3);\n",
    "E21(2,1) = 1/2;\n",
    "A1 = E21*A;\n",
    "disp(A1)"
   ]
  },
  {
   "cell_type": "code",
   "execution_count": 16,
   "id": "c525d332-03e8-4eb5-94ec-b5b990c5640d",
   "metadata": {},
   "outputs": [
    {
     "name": "stdout",
     "output_type": "stream",
     "text": [
      "   2.0000  -1.0000        0   1.0000        0        0\n",
      "        0   1.5000  -1.0000   0.5000   1.0000        0\n",
      "        0        0   1.3333   0.3333   0.6667   1.0000\n"
     ]
    }
   ],
   "source": [
    "E32 = eye(3);\n",
    "E32(3,2) = 1/1.5;\n",
    "A2 = E32*A1;\n",
    "disp(A2)  # A2 is upper tringular UT"
   ]
  },
  {
   "cell_type": "markdown",
   "id": "43daa331-9c1a-401a-a7ad-6beb6773bd55",
   "metadata": {},
   "source": [
    "#### Jordan elimination"
   ]
  },
  {
   "cell_type": "code",
   "execution_count": 17,
   "id": "4f0f499a-9fb9-4b96-9ef3-9a80b9ada1bd",
   "metadata": {},
   "outputs": [
    {
     "name": "stdout",
     "output_type": "stream",
     "text": [
      "   2.0000  -1.0000        0   1.0000        0        0\n",
      "        0   1.5000   0.0000   0.7500   1.5000   0.7500\n",
      "        0        0   1.3333   0.3333   0.6667   1.0000\n"
     ]
    }
   ],
   "source": [
    "E23 = eye(3);\n",
    "E23(2,3) = 1/1.3333;\n",
    "A3 = E23*A2;\n",
    "disp(A3)"
   ]
  },
  {
   "cell_type": "code",
   "execution_count": 18,
   "id": "3a061165-4549-4645-9528-5f45cc1e1de2",
   "metadata": {},
   "outputs": [
    {
     "name": "stdout",
     "output_type": "stream",
     "text": [
      "   2.0000  -0.0000   0.0000   1.5000   1.0000   0.5000\n",
      "        0   1.5000   0.0000   0.7500   1.5000   0.7500\n",
      "        0        0   1.3333   0.3333   0.6667   1.0000\n"
     ]
    }
   ],
   "source": [
    "E12 = eye(3);\n",
    "E12(1,2) = 1/1.5;\n",
    "A4 = E12*A3;\n",
    "disp(A4)  # A4 is a diagonal matrix"
   ]
  },
  {
   "cell_type": "code",
   "execution_count": 19,
   "id": "e2bee96f-aa92-4591-b107-c184d4a91ee0",
   "metadata": {},
   "outputs": [
    {
     "name": "stdout",
     "output_type": "stream",
     "text": [
      "   1.0000  -0.0000   0.0000   0.7500   0.5000   0.2500\n",
      "        0   1.0000   0.0000   0.5000   1.0000   0.5000\n",
      "        0        0   1.0000   0.2500   0.5000   0.7500\n"
     ]
    }
   ],
   "source": [
    "# we divide each row by the element in its diagonal\n",
    "A4_diag = diag(A4);\n",
    "A5 = nan(size(A4));\n",
    "for i = 1:rows(A4)\n",
    "    A5(i,:) = A4(i,:)/A4_diag(i); \n",
    "end\n",
    "disp(A5)  # The 3 columns on the left form the identity matrix "
   ]
  },
  {
   "cell_type": "markdown",
   "id": "5a2e0224-37e0-49ba-9f75-02fb5de6b9d0",
   "metadata": {},
   "source": [
    "A5(:,4:6) is equal to inv(K)"
   ]
  },
  {
   "cell_type": "code",
   "execution_count": 20,
   "id": "f311c9a6-c07c-4fbe-a858-4b49b3181b21",
   "metadata": {},
   "outputs": [
    {
     "name": "stdout",
     "output_type": "stream",
     "text": [
      "   0.7500   0.5000   0.2500\n",
      "   0.5000   1.0000   0.5000\n",
      "   0.2500   0.5000   0.7500\n"
     ]
    }
   ],
   "source": [
    "disp(inv(K))"
   ]
  },
  {
   "cell_type": "markdown",
   "id": "26b7d299-68e9-43b9-8b6c-74d8a1d1db99",
   "metadata": {},
   "source": [
    "* If K is symetric $K^-1$ is also symetric\n",
    "* Although K is not dense (tridiagonal) $K^-1$ is dense\n",
    "* The product of pivots = determinant of K: we test below"
   ]
  },
  {
   "cell_type": "code",
   "execution_count": 21,
   "id": "a5ddac31-bcea-4f8a-ad15-aef994fe3010",
   "metadata": {},
   "outputs": [
    {
     "name": "stdout",
     "output_type": "stream",
     "text": [
      "ans = 4.0000\n",
      "ans = 4\n"
     ]
    }
   ],
   "source": [
    "det(K)\n",
    "prod(diag(A4))"
   ]
  },
  {
   "cell_type": "code",
   "execution_count": 22,
   "id": "68876502-fe07-40cb-815a-633ee07ea27c",
   "metadata": {},
   "outputs": [
    {
     "name": "stdout",
     "output_type": "stream",
     "text": [
      "   0.7500   0.5000   0.2500\n",
      "   0.5000   1.0000   0.5000\n",
      "   0.2500   0.5000   0.7500\n"
     ]
    }
   ],
   "source": [
    "# Anoher way\n",
    "n = size(K,1);\n",
    "I = eye(n);\n",
    "R = rref ([A I]);  # Eliminate on the augmented matrix [A J]\n",
    "X = R( : , n + 1 : n + n);  # Pick X = A- 1 from the last n columns of R\n",
    "disp(X)"
   ]
  },
  {
   "cell_type": "markdown",
   "id": "2b45883d-85f0-4cbf-9e8b-ebc4d7404994",
   "metadata": {},
   "source": [
    "**A triangular matrix is invertible if and only if no diagonal entries are zero**"
   ]
  },
  {
   "cell_type": "code",
   "execution_count": 23,
   "id": "a00eb784-298c-4eca-b950-f93693ef5fb7",
   "metadata": {},
   "outputs": [
    {
     "name": "stdout",
     "output_type": "stream",
     "text": [
      "   1   0   0   1   0   0\n",
      "   3   1   0   0   1   0\n",
      "   4   5   1   0   0   1\n"
     ]
    }
   ],
   "source": [
    "L = [1, 0, 0; 3, 1, 0; 4, 5, 1] ;\n",
    "n=size(L, 1);\n",
    "I = eye(n);\n",
    "A = [L, I];\n",
    "disp(A)"
   ]
  },
  {
   "cell_type": "code",
   "execution_count": 24,
   "id": "cb7e3180-4a00-44b6-a06e-1d74d2c8af42",
   "metadata": {},
   "outputs": [
    {
     "name": "stdout",
     "output_type": "stream",
     "text": [
      "ans =\n",
      "\n",
      "    1.0000         0         0\n",
      "   -3.0000    1.0000         0\n",
      "   11.0000   -5.0000    1.0000\n",
      "\n"
     ]
    }
   ],
   "source": [
    "rref(A)(:,n+1:n+n)"
   ]
  },
  {
   "cell_type": "markdown",
   "id": "aab3c44e-7aa7-443f-999c-10059a531fd0",
   "metadata": {},
   "source": [
    "**Diagonally dominant matrices are invertible**"
   ]
  },
  {
   "cell_type": "code",
   "execution_count": null,
   "id": "82de6770-9567-476f-a349-d46cc59171b0",
   "metadata": {},
   "outputs": [],
   "source": [
    "A = [3, 1, 1; 1, 3, 1;1, 1, 3];\n",
    "# to be diagonally dominant of the elements in vector result must be 1\n",
    "d = abs(diag(A));\n",
    "x = [nan;nan;nan];\n",
    "sum(abs(A(1,:))\n"
   ]
  },
  {
   "cell_type": "code",
   "execution_count": null,
   "id": "68583e99-d9d5-48db-883e-a294d773faec",
   "metadata": {},
   "outputs": [],
   "source": [
    "\n"
   ]
  },
  {
   "cell_type": "code",
   "execution_count": null,
   "id": "0c37f5da-d0e8-404f-823d-7f703700a458",
   "metadata": {},
   "outputs": [],
   "source": [
    "\n"
   ]
  },
  {
   "cell_type": "code",
   "execution_count": null,
   "id": "3b5350df-19a5-4c5d-95c9-cbb4111e4bf0",
   "metadata": {},
   "outputs": [],
   "source": []
  },
  {
   "cell_type": "code",
   "execution_count": null,
   "id": "6ca29ffd-5bff-472c-b5ae-c2d5f1412b88",
   "metadata": {},
   "outputs": [],
   "source": []
  }
 ],
 "metadata": {
  "kernelspec": {
   "display_name": "Octave",
   "language": "octave",
   "name": "octave"
  },
  "language_info": {
   "file_extension": ".m",
   "help_links": [
    {
     "text": "GNU Octave",
     "url": "https://www.gnu.org/software/octave/support.html"
    },
    {
     "text": "Octave Kernel",
     "url": "https://github.com/Calysto/octave_kernel"
    },
    {
     "text": "MetaKernel Magics",
     "url": "https://metakernel.readthedocs.io/en/latest/source/README.html"
    }
   ],
   "mimetype": "text/x-octave",
   "name": "octave",
   "version": "6.2.0"
  }
 },
 "nbformat": 4,
 "nbformat_minor": 5
}
