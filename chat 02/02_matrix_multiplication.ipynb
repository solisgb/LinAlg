{
 "cells": [
  {
   "cell_type": "markdown",
   "id": "cb40d7e2-0442-4791-944d-c0f062ced390",
   "metadata": {
    "tags": []
   },
   "source": [
    "# Linear Algebra. Chapter 3\n",
    "## Matrix multiplication"
   ]
  },
  {
   "cell_type": "code",
   "execution_count": 28,
   "id": "54a50706-dae1-464c-ad20-cee77c7f2191",
   "metadata": {},
   "outputs": [],
   "source": [
    "A = rand(3,3);\n",
    "B = rand(3,3);"
   ]
  },
  {
   "cell_type": "code",
   "execution_count": 29,
   "id": "45c5caaa-53d7-4c53-8d87-03c49706fc02",
   "metadata": {},
   "outputs": [
    {
     "name": "stdout",
     "output_type": "stream",
     "text": [
      "   0.7360   1.5821   0.9887\n",
      "   0.4724   1.5444   0.7582\n",
      "   0.8745   1.6710   1.3609\n"
     ]
    }
   ],
   "source": [
    "AB = A * B;\n",
    "disp(AB)"
   ]
  },
  {
   "cell_type": "code",
   "execution_count": 30,
   "id": "0d4ec529-69bb-4d22-b919-ef2dc0cd5f8d",
   "metadata": {},
   "outputs": [
    {
     "name": "stdout",
     "output_type": "stream",
     "text": [
      "   0.7360   1.5821   0.9887\n",
      "   0.4724   1.5444   0.7582\n",
      "   0.8745   1.6710   1.3609\n"
     ]
    }
   ],
   "source": [
    "# 1. The entry in row i and column j of AB is (row i of A) · ( column j of B)\n",
    "[r,c] = size(A);\n",
    "AB = nan(r, c);\n",
    "for i = 1:r\n",
    "     for j = 1:c\n",
    "         AB(i,j) = dot(A(i,:), B(:,j));\n",
    "     end\n",
    " end\n",
    " disp(AB)"
   ]
  },
  {
   "cell_type": "code",
   "execution_count": 31,
   "id": "ee8abd87-ce8c-40d6-a9d0-eb56a6738366",
   "metadata": {},
   "outputs": [
    {
     "name": "stdout",
     "output_type": "stream",
     "text": [
      "   0.7360   1.5821   0.9887\n",
      "   0.4724   1.5444   0.7582\n",
      "   0.8745   1.6710   1.3609\n"
     ]
    }
   ],
   "source": [
    "# 2. Matrix A times every column of B\n",
    "AB = [A * B(:,1),A * B(:,2),A * B(:,3)];\n",
    "disp(AB)"
   ]
  },
  {
   "cell_type": "code",
   "execution_count": 32,
   "id": "f4f64667-019b-47be-84f2-c2c546a84238",
   "metadata": {},
   "outputs": [
    {
     "name": "stdout",
     "output_type": "stream",
     "text": [
      "   0.7360   1.5821   0.9887\n",
      "   0.4724   1.5444   0.7582\n",
      "   0.8745   1.6710   1.3609\n"
     ]
    }
   ],
   "source": [
    "# 3. Every row of A times matrix B\n",
    "AB = [A(1,:)*B; A(2,:)*B; A(3,:)*B];\n",
    "disp(AB)"
   ]
  },
  {
   "cell_type": "code",
   "execution_count": 33,
   "id": "a5114a34-ac81-4189-89df-cab4dad8f546",
   "metadata": {},
   "outputs": [
    {
     "name": "stdout",
     "output_type": "stream",
     "text": [
      "   0.7360   1.5821   0.9887\n",
      "   0.4724   1.5444   0.7582\n",
      "   0.8745   1.6710   1.3609\n"
     ]
    }
   ],
   "source": [
    "# 4. Multiply columns 1 to n of A times rows 1 to n of B. Add those matrices\n",
    "AB = zeros(r, c);\n",
    "for i = 1:r\n",
    "     AB = AB + (A(:,i) * B(i,:));\n",
    " end\n",
    " disp(AB)"
   ]
  },
  {
   "cell_type": "markdown",
   "id": "05aaf12f-e241-4697-9eb1-46c269b39f76",
   "metadata": {},
   "source": [
    "## The Matrix Form of One Elimination Step"
   ]
  },
  {
   "cell_type": "code",
   "execution_count": 22,
   "id": "4402bf5d-0585-48fd-8eea-26241ffa06c7",
   "metadata": {},
   "outputs": [
    {
     "name": "stdout",
     "output_type": "stream",
     "text": [
      "   2   4  -2\n",
      "   4   9  -3\n",
      "  -2  -3   7\n"
     ]
    }
   ],
   "source": [
    "A = [2, 4, -2; 4, 9, -3; -2, -3, 7];\n",
    "disp(A)"
   ]
  },
  {
   "cell_type": "code",
   "execution_count": 35,
   "id": "af8550ff-e468-4ba2-9ebf-1843832649e0",
   "metadata": {},
   "outputs": [
    {
     "name": "stdout",
     "output_type": "stream",
     "text": [
      "    2\n",
      "    8\n",
      "   19\n"
     ]
    }
   ],
   "source": [
    "b = [2; 8; 19];\n",
    "disp(b)"
   ]
  },
  {
   "cell_type": "code",
   "execution_count": 20,
   "id": "dd06fb93-6227-4ec0-bf4e-3eb2d96e0595",
   "metadata": {},
   "outputs": [
    {
     "name": "stdout",
     "output_type": "stream",
     "text": [
      "Diagonal Matrix\n",
      "\n",
      "   1   0   0\n",
      "   0   1   0\n",
      "   0   0   1\n"
     ]
    }
   ],
   "source": [
    "E1 = eye(size(A));\n",
    "disp(E1)"
   ]
  },
  {
   "cell_type": "code",
   "execution_count": 27,
   "id": "809a482e-798f-4772-b036-bf5687fb5ba7",
   "metadata": {},
   "outputs": [
    {
     "name": "stdout",
     "output_type": "stream",
     "text": [
      "   2   4  -2\n",
      "   0   1   1\n",
      "  -2  -3   7\n"
     ]
    }
   ],
   "source": [
    "E1(2,1) = -2;\n",
    "disp(E1*A)"
   ]
  },
  {
   "cell_type": "code",
   "execution_count": 26,
   "id": "5a1b9456-005a-4c32-ae43-9a7937f67712",
   "metadata": {},
   "outputs": [
    {
     "name": "stdout",
     "output_type": "stream",
     "text": [
      "    2\n",
      "    4\n",
      "   19\n"
     ]
    }
   ],
   "source": [
    "disp(E1*b)"
   ]
  },
  {
   "cell_type": "code",
   "execution_count": null,
   "id": "cf6abaaf-3809-4d87-9ce3-483d404a2710",
   "metadata": {},
   "outputs": [],
   "source": []
  }
 ],
 "metadata": {
  "kernelspec": {
   "display_name": "Octave",
   "language": "octave",
   "name": "octave"
  },
  "language_info": {
   "file_extension": ".m",
   "help_links": [
    {
     "text": "GNU Octave",
     "url": "https://www.gnu.org/software/octave/support.html"
    },
    {
     "text": "Octave Kernel",
     "url": "https://github.com/Calysto/octave_kernel"
    },
    {
     "text": "MetaKernel Magics",
     "url": "https://metakernel.readthedocs.io/en/latest/source/README.html"
    }
   ],
   "mimetype": "text/x-octave",
   "name": "octave",
   "version": "6.2.0"
  }
 },
 "nbformat": 4,
 "nbformat_minor": 5
}
