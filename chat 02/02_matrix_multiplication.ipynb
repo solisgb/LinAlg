{
 "cells": [
  {
   "cell_type": "markdown",
   "id": "cb40d7e2-0442-4791-944d-c0f062ced390",
   "metadata": {
    "tags": []
   },
   "source": [
    "# Chapter 2. Solving Linear Equations\n",
    "## Matrix multiplication"
   ]
  },
  {
   "cell_type": "code",
   "execution_count": 2,
   "id": "54a50706-dae1-464c-ad20-cee77c7f2191",
   "metadata": {},
   "outputs": [],
   "source": [
    "A = rand(3,3);\n",
    "B = rand(3,3);"
   ]
  },
  {
   "cell_type": "code",
   "execution_count": 3,
   "id": "45c5caaa-53d7-4c53-8d87-03c49706fc02",
   "metadata": {},
   "outputs": [
    {
     "name": "stdout",
     "output_type": "stream",
     "text": [
      "   0.3472   1.0124   1.1816\n",
      "   0.6525   0.8200   1.1775\n",
      "   0.4718   0.8525   1.0935\n"
     ]
    }
   ],
   "source": [
    "AB = A * B;\n",
    "disp(AB)"
   ]
  },
  {
   "cell_type": "code",
   "execution_count": 4,
   "id": "0d4ec529-69bb-4d22-b919-ef2dc0cd5f8d",
   "metadata": {},
   "outputs": [
    {
     "name": "stdout",
     "output_type": "stream",
     "text": [
      "   0.3472   1.0124   1.1816\n",
      "   0.6525   0.8200   1.1775\n",
      "   0.4718   0.8525   1.0935\n"
     ]
    }
   ],
   "source": [
    "# 1. The entry in row i and column j of AB is (row i of A) · ( column j of B)\n",
    "[r,c] = size(A);\n",
    "AB = nan(r, c);\n",
    "for i = 1:r\n",
    "     for j = 1:c\n",
    "         AB(i,j) = dot(A(i,:), B(:,j));\n",
    "     end\n",
    " end\n",
    " disp(AB)"
   ]
  },
  {
   "cell_type": "code",
   "execution_count": 5,
   "id": "ee8abd87-ce8c-40d6-a9d0-eb56a6738366",
   "metadata": {},
   "outputs": [
    {
     "name": "stdout",
     "output_type": "stream",
     "text": [
      "   0.3472   1.0124   1.1816\n",
      "   0.6525   0.8200   1.1775\n",
      "   0.4718   0.8525   1.0935\n"
     ]
    }
   ],
   "source": [
    "# 2. Matrix A times every column of B\n",
    "AB = [A * B(:,1),A * B(:,2),A * B(:,3)];\n",
    "disp(AB)"
   ]
  },
  {
   "cell_type": "code",
   "execution_count": 6,
   "id": "f4f64667-019b-47be-84f2-c2c546a84238",
   "metadata": {},
   "outputs": [
    {
     "name": "stdout",
     "output_type": "stream",
     "text": [
      "   0.3472   1.0124   1.1816\n",
      "   0.6525   0.8200   1.1775\n",
      "   0.4718   0.8525   1.0935\n"
     ]
    }
   ],
   "source": [
    "# 3. Every row of A times matrix B\n",
    "AB = [A(1,:)*B; A(2,:)*B; A(3,:)*B];\n",
    "disp(AB)"
   ]
  },
  {
   "cell_type": "code",
   "execution_count": 7,
   "id": "a5114a34-ac81-4189-89df-cab4dad8f546",
   "metadata": {},
   "outputs": [
    {
     "name": "stdout",
     "output_type": "stream",
     "text": [
      "   0.3472   1.0124   1.1816\n",
      "   0.6525   0.8200   1.1775\n",
      "   0.4718   0.8525   1.0935\n"
     ]
    }
   ],
   "source": [
    "# 4. Multiply columns 1 to n of A times rows 1 to n of B. Add those matrices\n",
    "AB = zeros(r, c);\n",
    "for i = 1:r\n",
    "     AB = AB + (A(:,i) * B(i,:));\n",
    " end\n",
    " disp(AB)"
   ]
  },
  {
   "cell_type": "markdown",
   "id": "05aaf12f-e241-4697-9eb1-46c269b39f76",
   "metadata": {},
   "source": [
    "## The Matrix Form of One Elimination Step"
   ]
  },
  {
   "cell_type": "code",
   "execution_count": 8,
   "id": "4402bf5d-0585-48fd-8eea-26241ffa06c7",
   "metadata": {},
   "outputs": [
    {
     "name": "stdout",
     "output_type": "stream",
     "text": [
      "    2    4   -2    2\n",
      "    4    9   -3    8\n",
      "   -2   -3    7   19\n"
     ]
    }
   ],
   "source": [
    "A = [2, 4, -2; 4, 9, -3; -2, -3, 7];\n",
    "b = [2; 8; 19];\n",
    "Ab=[A,b];\n",
    "disp(Ab)"
   ]
  },
  {
   "cell_type": "code",
   "execution_count": 9,
   "id": "39fbc1b7-78db-4e24-8c2a-0cd781a3bf89",
   "metadata": {},
   "outputs": [
    {
     "name": "stdout",
     "output_type": "stream",
     "text": [
      "    2    4   -2    2\n",
      "    0    1    1    4\n",
      "   -2   -3    7   19\n"
     ]
    }
   ],
   "source": [
    "E21 = eye(size(A));\n",
    "E21(2,1) = -2;\n",
    "Ab1 = E21*Ab;\n",
    "disp(Ab1)"
   ]
  },
  {
   "cell_type": "code",
   "execution_count": 10,
   "id": "af8550ff-e468-4ba2-9ebf-1843832649e0",
   "metadata": {},
   "outputs": [
    {
     "name": "stdout",
     "output_type": "stream",
     "text": [
      "    2    4   -2    2\n",
      "    0    1    1    4\n",
      "    0    1    5   21\n"
     ]
    }
   ],
   "source": [
    "E31 = eye(size(A));\n",
    "E31(3,1) = 1;\n",
    "Ab2 = E31*Ab1;\n",
    "disp(Ab2)"
   ]
  },
  {
   "cell_type": "code",
   "execution_count": 11,
   "id": "dd06fb93-6227-4ec0-bf4e-3eb2d96e0595",
   "metadata": {},
   "outputs": [
    {
     "name": "stdout",
     "output_type": "stream",
     "text": [
      "    2    4   -2    2\n",
      "    0    1    1    4\n",
      "    0    0    4   17\n"
     ]
    }
   ],
   "source": [
    "E32 = eye(size(A));\n",
    "E32(3,2) = -1;\n",
    "Ab3=E32*Ab2;\n",
    "disp(Ab3)"
   ]
  },
  {
   "cell_type": "code",
   "execution_count": 12,
   "id": "809a482e-798f-4772-b036-bf5687fb5ba7",
   "metadata": {},
   "outputs": [
    {
     "name": "stdout",
     "output_type": "stream",
     "text": [
      "   1   0   0\n",
      "  -2   1   0\n",
      "   3  -1   1\n"
     ]
    }
   ],
   "source": [
    "E=E32*E31*E21;\n",
    "disp(E)"
   ]
  },
  {
   "cell_type": "code",
   "execution_count": 13,
   "id": "5a1b9456-005a-4c32-ae43-9a7937f67712",
   "metadata": {},
   "outputs": [
    {
     "name": "stdout",
     "output_type": "stream",
     "text": [
      "    2    4   -2    2\n",
      "    0    1    1    4\n",
      "    0    0    4   17\n"
     ]
    }
   ],
   "source": [
    "disp(E*Ab)"
   ]
  },
  {
   "cell_type": "markdown",
   "id": "7fba84a6-eec6-419f-ac84-80cea35cb1b9",
   "metadata": {},
   "source": [
    "## Inverse matrix"
   ]
  },
  {
   "cell_type": "markdown",
   "id": "d0b8334d-ed79-4ab4-8bc1-ae5a4aeef956",
   "metadata": {},
   "source": [
    "### Calculating $A^{-1}$ by Gauss-Jordan elimination"
   ]
  },
  {
   "cell_type": "code",
   "execution_count": 14,
   "id": "3588cbea-1604-4de4-b6dc-3c6a411193e6",
   "metadata": {},
   "outputs": [],
   "source": [
    "K = [2, -1, 0; -1, 2, -1; 0, -1, 2 ];\n",
    "E = eye(size(K));"
   ]
  },
  {
   "cell_type": "code",
   "execution_count": 15,
   "id": "f59c21af-68f8-411d-924f-243ca6afe783",
   "metadata": {},
   "outputs": [
    {
     "name": "stdout",
     "output_type": "stream",
     "text": [
      "   2  -1   0   1   0   0\n",
      "  -1   2  -1   0   1   0\n",
      "   0  -1   2   0   0   1\n"
     ]
    }
   ],
   "source": [
    "A = [K, E];  # same as [K, E(:,1), E(:,2), E(:,3)];\n",
    "disp(A)"
   ]
  },
  {
   "cell_type": "markdown",
   "id": "d755fb7a-9db1-4de5-8bc5-1f1755c03bfc",
   "metadata": {},
   "source": [
    "#### Gauss elimination"
   ]
  },
  {
   "cell_type": "code",
   "execution_count": 16,
   "id": "1657eb64-6d3e-4f01-8add-102dd9e7dfe3",
   "metadata": {},
   "outputs": [
    {
     "name": "stdout",
     "output_type": "stream",
     "text": [
      "   2.0000  -1.0000        0   1.0000        0        0\n",
      "        0   1.5000  -1.0000   0.5000   1.0000        0\n",
      "        0  -1.0000   2.0000        0        0   1.0000\n"
     ]
    }
   ],
   "source": [
    "E21 = eye(3);\n",
    "E21(2,1) = 1/2;\n",
    "A1 = E21*A;\n",
    "disp(A1)"
   ]
  },
  {
   "cell_type": "code",
   "execution_count": 17,
   "id": "c525d332-03e8-4eb5-94ec-b5b990c5640d",
   "metadata": {},
   "outputs": [
    {
     "name": "stdout",
     "output_type": "stream",
     "text": [
      "   2.0000  -1.0000        0   1.0000        0        0\n",
      "        0   1.5000  -1.0000   0.5000   1.0000        0\n",
      "        0        0   1.3333   0.3333   0.6667   1.0000\n"
     ]
    }
   ],
   "source": [
    "E32 = eye(3);\n",
    "E32(3,2) = 1/1.5;\n",
    "A2 = E32*A1;\n",
    "disp(A2)  # A2 is upper tringular UT"
   ]
  },
  {
   "cell_type": "markdown",
   "id": "43daa331-9c1a-401a-a7ad-6beb6773bd55",
   "metadata": {},
   "source": [
    "#### Jordan elimination"
   ]
  },
  {
   "cell_type": "code",
   "execution_count": 18,
   "id": "4f0f499a-9fb9-4b96-9ef3-9a80b9ada1bd",
   "metadata": {},
   "outputs": [
    {
     "name": "stdout",
     "output_type": "stream",
     "text": [
      "   2.0000  -1.0000        0   1.0000        0        0\n",
      "        0   1.5000   0.0000   0.7500   1.5000   0.7500\n",
      "        0        0   1.3333   0.3333   0.6667   1.0000\n"
     ]
    }
   ],
   "source": [
    "E23 = eye(3);\n",
    "E23(2,3) = 1/1.3333;\n",
    "A3 = E23*A2;\n",
    "disp(A3)"
   ]
  },
  {
   "cell_type": "code",
   "execution_count": 19,
   "id": "3a061165-4549-4645-9528-5f45cc1e1de2",
   "metadata": {},
   "outputs": [
    {
     "name": "stdout",
     "output_type": "stream",
     "text": [
      "   2.0000  -0.0000   0.0000   1.5000   1.0000   0.5000\n",
      "        0   1.5000   0.0000   0.7500   1.5000   0.7500\n",
      "        0        0   1.3333   0.3333   0.6667   1.0000\n"
     ]
    }
   ],
   "source": [
    "E12 = eye(3);\n",
    "E12(1,2) = 1/1.5;\n",
    "A4 = E12*A3;\n",
    "disp(A4)  # A4 is a diagonal matrix"
   ]
  },
  {
   "cell_type": "code",
   "execution_count": 20,
   "id": "e2bee96f-aa92-4591-b107-c184d4a91ee0",
   "metadata": {},
   "outputs": [
    {
     "name": "stdout",
     "output_type": "stream",
     "text": [
      "   1.0000  -0.0000   0.0000   0.7500   0.5000   0.2500\n",
      "        0   1.0000   0.0000   0.5000   1.0000   0.5000\n",
      "        0        0   1.0000   0.2500   0.5000   0.7500\n"
     ]
    }
   ],
   "source": [
    "# we divide each row by the element in its diagonal\n",
    "A4_diag = diag(A4);\n",
    "A5 = nan(size(A4));\n",
    "for i = 1:rows(A4)\n",
    "    A5(i,:) = A4(i,:)/A4_diag(i); \n",
    "end\n",
    "disp(A5)  # The 3 columns on the left form the identity matrix "
   ]
  },
  {
   "cell_type": "markdown",
   "id": "5a2e0224-37e0-49ba-9f75-02fb5de6b9d0",
   "metadata": {},
   "source": [
    "A5(:,4:6) is equal to inv(K)"
   ]
  },
  {
   "cell_type": "code",
   "execution_count": 21,
   "id": "f311c9a6-c07c-4fbe-a858-4b49b3181b21",
   "metadata": {},
   "outputs": [
    {
     "name": "stdout",
     "output_type": "stream",
     "text": [
      "   0.7500   0.5000   0.2500\n",
      "   0.5000   1.0000   0.5000\n",
      "   0.2500   0.5000   0.7500\n"
     ]
    }
   ],
   "source": [
    "disp(inv(K))"
   ]
  },
  {
   "cell_type": "markdown",
   "id": "26b7d299-68e9-43b9-8b6c-74d8a1d1db99",
   "metadata": {},
   "source": [
    "* If K is symetric $K^-1$ is also symetric\n",
    "* Although K is not dense (tridiagonal) $K^-1$ is dense\n",
    "* The product of pivots = determinant of K: we test below"
   ]
  },
  {
   "cell_type": "code",
   "execution_count": 22,
   "id": "a5ddac31-bcea-4f8a-ad15-aef994fe3010",
   "metadata": {},
   "outputs": [
    {
     "name": "stdout",
     "output_type": "stream",
     "text": [
      "ans = 4.0000\n",
      "ans = 4\n"
     ]
    }
   ],
   "source": [
    "det(K)\n",
    "prod(diag(A4))"
   ]
  },
  {
   "cell_type": "code",
   "execution_count": 23,
   "id": "68876502-fe07-40cb-815a-633ee07ea27c",
   "metadata": {},
   "outputs": [
    {
     "name": "stdout",
     "output_type": "stream",
     "text": [
      "   0.7500   0.5000   0.2500\n",
      "   0.5000   1.0000   0.5000\n",
      "   0.2500   0.5000   0.7500\n"
     ]
    }
   ],
   "source": [
    "# Anoher way\n",
    "n = size(K,1);\n",
    "I = eye(n);\n",
    "R = rref ([A I]);  # Eliminate on the augmented matrix [A J]\n",
    "X = R( : , n + 1 : n + n);  # Pick X = A- 1 from the last n columns of R\n",
    "disp(X)"
   ]
  },
  {
   "cell_type": "markdown",
   "id": "2b45883d-85f0-4cbf-9e8b-ebc4d7404994",
   "metadata": {},
   "source": [
    "### Recognizing an Invertible Matrix\n",
    "* The usual way is to find a full set of nonzero pivots in elimination\n",
    "* Diagonally dominant matrices are invertible\n",
    "\n",
    "**Full set of nonzero pivots in elimination**"
   ]
  },
  {
   "cell_type": "code",
   "execution_count": 24,
   "id": "a00eb784-298c-4eca-b950-f93693ef5fb7",
   "metadata": {},
   "outputs": [
    {
     "name": "stdout",
     "output_type": "stream",
     "text": [
      "   1   0   0   1   0   0\n",
      "   3   1   0   0   1   0\n",
      "   4   5   1   0   0   1\n"
     ]
    }
   ],
   "source": [
    "L = [1, 0, 0; 3, 1, 0; 4, 5, 1] ;\n",
    "n=size(L, 1);\n",
    "I = eye(n);\n",
    "A = [L, I];\n",
    "disp(A)"
   ]
  },
  {
   "cell_type": "code",
   "execution_count": 25,
   "id": "cb7e3180-4a00-44b6-a06e-1d74d2c8af42",
   "metadata": {},
   "outputs": [
    {
     "name": "stdout",
     "output_type": "stream",
     "text": [
      "    1.0000         0         0\n",
      "   -3.0000    1.0000         0\n",
      "   11.0000   -5.0000    1.0000\n"
     ]
    }
   ],
   "source": [
    "A1 = rref(A)(:,n+1:n+n);\n",
    "disp(A1)"
   ]
  },
  {
   "cell_type": "code",
   "execution_count": 26,
   "id": "1147a2bd-2fc1-4e67-a96e-2654bc73fcab",
   "metadata": {},
   "outputs": [
    {
     "name": "stdout",
     "output_type": "stream",
     "text": [
      "ans = [](0x1)\n"
     ]
    }
   ],
   "source": [
    "find(diag(A1) == 0)"
   ]
  },
  {
   "cell_type": "markdown",
   "id": "aab3c44e-7aa7-443f-999c-10059a531fd0",
   "metadata": {},
   "source": [
    "**Diagonally dominant matrices are invertible**"
   ]
  },
  {
   "cell_type": "code",
   "execution_count": 27,
   "id": "82de6770-9567-476f-a349-d46cc59171b0",
   "metadata": {},
   "outputs": [
    {
     "name": "stdout",
     "output_type": "stream",
     "text": [
      "ans =\n",
      "\n",
      "  0\n",
      "  0\n",
      "  1\n",
      "\n"
     ]
    }
   ],
   "source": [
    "# A = [3, 1, 1; 1, 3, 1;1, 1, 3];\n",
    "A = [2, 1, 1; 1, 2, 1;1, 1, 3];\n",
    "# to be diagonally dominant all elements of the comparyson must be 1\n",
    "d = abs(diag(A));\n",
    "s=sum(abs(A),2)-d;\n",
    "d>s"
   ]
  },
  {
   "cell_type": "code",
   "execution_count": 28,
   "id": "68583e99-d9d5-48db-883e-a294d773faec",
   "metadata": {},
   "outputs": [
    {
     "name": "stdout",
     "output_type": "stream",
     "text": [
      "   1\n",
      "   2\n"
     ]
    }
   ],
   "source": [
    "# if your matrix is large you can use find \n",
    "disp(find(d>s==0))"
   ]
  },
  {
   "cell_type": "markdown",
   "id": "4fd065ff-b67e-4f9e-ac5a-3f4bc0f12021",
   "metadata": {},
   "source": [
    "## Elimination = Factorization: A = LU"
   ]
  },
  {
   "cell_type": "markdown",
   "id": "f8d6af86-1e57-417d-8172-641d57ed3055",
   "metadata": {},
   "source": [
    "* Every inverse matrix $E^{-1}$ is lower triangular. Its off-diagonal entry is $l_{ij}$. The main diagonals of $E$ and $E^{-1}$ contain 1's\n",
    "* $(E32*E21)^{-1}=E21^{-1} * E32^{-1}L$"
   ]
  },
  {
   "cell_type": "code",
   "execution_count": 29,
   "id": "2a64e929-b58a-48d9-a1bf-431f430892aa",
   "metadata": {},
   "outputs": [
    {
     "name": "stdout",
     "output_type": "stream",
     "text": [
      "   2   1   0\n",
      "   1   2   1\n",
      "   0   1   2\n"
     ]
    }
   ],
   "source": [
    "A = [2 1 0; 1 2 1; 0 1 2];\n",
    "disp(A)"
   ]
  },
  {
   "cell_type": "code",
   "execution_count": 30,
   "id": "1635acf0-2c04-4d00-ba7a-3de5951a5c44",
   "metadata": {},
   "outputs": [
    {
     "name": "stdout",
     "output_type": "stream",
     "text": [
      "   2.0000   1.0000        0\n",
      "        0   1.5000   1.0000\n",
      "        0   1.0000   2.0000\n"
     ]
    }
   ],
   "source": [
    "E21 = eye(size(A)); E21(2,1) = -1/2; disp(E21*A)"
   ]
  },
  {
   "cell_type": "code",
   "execution_count": 31,
   "id": "80cd8f04-adb4-48f6-ab92-f883d8daa6e1",
   "metadata": {},
   "outputs": [
    {
     "name": "stdout",
     "output_type": "stream",
     "text": [
      "   2.0000   1.0000        0\n",
      "        0   1.5000   1.0000\n",
      "        0        0   1.3333\n"
     ]
    }
   ],
   "source": [
    "E32 = eye(n); E32(3,2) = -1/1.5 ;\n",
    "disp(E32*E21*A)\n",
    "U = E32*E21*A;"
   ]
  },
  {
   "cell_type": "markdown",
   "id": "a386b1cd-b88f-4e3d-bae0-f41307e71267",
   "metadata": {},
   "source": [
    "The matrix L contains our memory of Gaussian elimination. Notice that $-l_{21} = e_{21}$ and $-l_{32} = e_{32}$  "
   ]
  },
  {
   "cell_type": "code",
   "execution_count": 32,
   "id": "4afe382a-8f3b-440c-b7d7-0a03e32d38f8",
   "metadata": {},
   "outputs": [
    {
     "name": "stdout",
     "output_type": "stream",
     "text": [
      "   1.0000        0        0\n",
      "   0.5000   1.0000        0\n",
      "        0   0.6667   1.0000\n"
     ]
    }
   ],
   "source": [
    "L = inv(E21)*inv(E32);\n",
    "disp(L)"
   ]
  },
  {
   "cell_type": "markdown",
   "id": "0e919fa9-229b-4308-bb95-f744a8c238ae",
   "metadata": {},
   "source": [
    "$ A = L * U$"
   ]
  },
  {
   "cell_type": "code",
   "execution_count": 33,
   "id": "4442d148-f59e-4cc0-8b6b-b424a6f5aa59",
   "metadata": {},
   "outputs": [
    {
     "name": "stdout",
     "output_type": "stream",
     "text": [
      "   0   0   0\n",
      "   0   0   0\n",
      "   0   0   0\n"
     ]
    }
   ],
   "source": [
    "disp([A - L*U])"
   ]
  },
  {
   "cell_type": "markdown",
   "id": "cce8b5f6-55c8-4242-b6e1-86b26ca63d97",
   "metadata": {},
   "source": [
    "**The triangular factorization can be written $A= LU$ or $A= LDU$**"
   ]
  },
  {
   "cell_type": "code",
   "execution_count": 34,
   "id": "6032e5b9-7033-4b67-ab8d-c7132f55cf20",
   "metadata": {},
   "outputs": [
    {
     "name": "stdout",
     "output_type": "stream",
     "text": [
      "   0   0   0\n",
      "   0   0   0\n",
      "   0   0   0\n"
     ]
    }
   ],
   "source": [
    "A = [2 1 0; 1 2 1; 0 1 2];\n",
    "\n",
    "E21 = eye(n); E32 = eye(n);\n",
    "E21(2,1) = -1/2; E32(3,2) = -1/1.5;\n",
    "U = E32*E21*A;\n",
    "\n",
    "L = inv(E21)*inv(E32);\n",
    "\n",
    "d = diag(U);\n",
    "D = eye(size(A)) .* d;\n",
    "\n",
    "Unew = U ./ d;\n",
    "\n",
    "disp(A - [L*D*Unew])"
   ]
  },
  {
   "cell_type": "markdown",
   "id": "154c78b5-5629-4aeb-b2eb-e694393732eb",
   "metadata": {},
   "source": [
    "### To solve $A x = b$, $L$ and $U$ matrices are required"
   ]
  },
  {
   "cell_type": "markdown",
   "id": "278bb2ea-4c5f-40ff-a810-91a239d53930",
   "metadata": {},
   "source": [
    "1. Factor $A$ into $U$ and $L$\n",
    "1. Solve: forward elimination on $b$ using $L$, then back substitution for $x$ using $U$"
   ]
  },
  {
   "cell_type": "code",
   "execution_count": 35,
   "id": "4aa7644c-f242-4d6f-9bd0-d1a1abc7f9f1",
   "metadata": {},
   "outputs": [
    {
     "name": "stdout",
     "output_type": "stream",
     "text": [
      "   1   2\n",
      "   4   9\n",
      "error: 'bb' undefined near line 1, column 1\n"
     ]
    }
   ],
   "source": [
    "A = [1 2;4 9]; disp(A)\n",
    "b = [5; 21];\n",
    "K = [A bb];"
   ]
  },
  {
   "cell_type": "markdown",
   "id": "03a16ade-1a92-43c6-9bd2-10f676d987af",
   "metadata": {},
   "source": [
    "Solve $Lc = b$ "
   ]
  },
  {
   "cell_type": "code",
   "execution_count": 36,
   "id": "134c5cc9-1d66-4845-968f-c00e11e2b16f",
   "metadata": {},
   "outputs": [
    {
     "name": "stdout",
     "output_type": "stream",
     "text": [
      "error: operator *: nonconformant arguments (op1 is 2x2, op2 is 3x3)\n"
     ]
    }
   ],
   "source": [
    "E21 = eye(size(A));\n",
    "E21(2,1) = -4;\n",
    "U = E21*K; disp(U)"
   ]
  },
  {
   "cell_type": "code",
   "execution_count": 37,
   "id": "6419b8a1-9e5b-4f43-b09a-3b5d2dcd02f9",
   "metadata": {},
   "outputs": [
    {
     "name": "stdout",
     "output_type": "stream",
     "text": [
      "   1   0\n",
      "   4   1\n"
     ]
    }
   ],
   "source": [
    "L=inv(E21); disp(L)"
   ]
  },
  {
   "cell_type": "code",
   "execution_count": 38,
   "id": "c0f4bce5-2358-4d57-bf32-57d73667f6d6",
   "metadata": {},
   "outputs": [
    {
     "name": "stdout",
     "output_type": "stream",
     "text": [
      "        0\n",
      "   1.0000\n",
      "   1.3333\n"
     ]
    }
   ],
   "source": [
    "c=U(:, 3); disp(c)"
   ]
  },
  {
   "cell_type": "markdown",
   "id": "ad0b3c7b-ce2e-48f1-ad32-8eafa803bc25",
   "metadata": {},
   "source": [
    "Solve $Ux = c$ "
   ]
  },
  {
   "cell_type": "code",
   "execution_count": 39,
   "id": "49571f32-7f73-4dd9-bd09-155aa87d6068",
   "metadata": {},
   "outputs": [],
   "source": [
    "U = U(:,1:2);"
   ]
  },
  {
   "cell_type": "code",
   "execution_count": 40,
   "id": "ccf3ccc3-f78f-49e3-b73c-579187884b10",
   "metadata": {},
   "outputs": [
    {
     "name": "stdout",
     "output_type": "stream",
     "text": [
      "error: inverse: A must be a square matrix\n"
     ]
    }
   ],
   "source": [
    "x = inv(U) * c"
   ]
  },
  {
   "cell_type": "markdown",
   "id": "c2d826e8-4878-462e-83c9-4ea469428998",
   "metadata": {},
   "source": [
    "**Exercise: factorization of Pascal matrix**\n",
    "\n",
    "L and U calculated by matrix elimination are different from the result obtained by applying lu(D) (Strang pag. 103)"
   ]
  },
  {
   "cell_type": "code",
   "execution_count": 41,
   "id": "901c4d5b-222e-47be-ad4c-7b1b106becea",
   "metadata": {},
   "outputs": [
    {
     "name": "stdout",
     "output_type": "stream",
     "text": [
      "P =\n",
      "\n",
      "    1    1    1    1\n",
      "    1    2    3    4\n",
      "    1    3    6   10\n",
      "    1    4   10   20\n",
      "\n"
     ]
    }
   ],
   "source": [
    "P=pascal(4)"
   ]
  },
  {
   "cell_type": "code",
   "execution_count": 42,
   "id": "0c5c51ba-6617-4c84-bd4e-6a2e74eafb14",
   "metadata": {},
   "outputs": [],
   "source": [
    "E21 = eye(size(P)); E21(2,1) = -1; P1 = E21*P;  %disp(P1)"
   ]
  },
  {
   "cell_type": "code",
   "execution_count": 43,
   "id": "007d65c9-9378-4327-9d04-30798b804c55",
   "metadata": {},
   "outputs": [],
   "source": [
    "E31 = eye(size(P)); E31(3,1) = -1; P2 = E31*P1;  %disp(P2)"
   ]
  },
  {
   "cell_type": "code",
   "execution_count": 44,
   "id": "acdd0c4d-afcb-412d-8c93-3f8c3be614c5",
   "metadata": {},
   "outputs": [],
   "source": [
    "E32 = eye(size(P)); E32(3,2) = -2; P3 = E32*P2;  %disp(P3)"
   ]
  },
  {
   "cell_type": "code",
   "execution_count": 45,
   "id": "491fe30c-2a6b-4cc9-96b9-9f879393bc38",
   "metadata": {},
   "outputs": [],
   "source": [
    "E41 = eye(size(P)); E41(4,1) = -1; P4 = E41 * P3; %disp(P4)"
   ]
  },
  {
   "cell_type": "code",
   "execution_count": 46,
   "id": "3c9b7a90-28d3-42fb-afd9-10c5ea3c1114",
   "metadata": {},
   "outputs": [],
   "source": [
    "E42 = eye(size(P)); E42(4,2) = -3; P5 = E42 * P4; %disp(P5)"
   ]
  },
  {
   "cell_type": "code",
   "execution_count": 47,
   "id": "2f5a3399-60ce-437a-8c27-f9bc4b8964f6",
   "metadata": {},
   "outputs": [
    {
     "name": "stdout",
     "output_type": "stream",
     "text": [
      "U =\n",
      "\n",
      "   1   1   1   1\n",
      "   0   1   2   3\n",
      "   0   0   1   3\n",
      "   0   0   0   1\n",
      "\n"
     ]
    }
   ],
   "source": [
    "E43 = eye(size(P)); E43(4,3) = -3; P6 = E43 * P5; %disp(P6);\n",
    "U = P6"
   ]
  },
  {
   "cell_type": "code",
   "execution_count": 48,
   "id": "e9d5d8ec-cea3-4b36-af21-a096efa68022",
   "metadata": {},
   "outputs": [
    {
     "name": "stdout",
     "output_type": "stream",
     "text": [
      "L =\n",
      "\n",
      "   1   0   0   0\n",
      "   1   1   0   0\n",
      "   1   2   1   0\n",
      "   1   3   3   1\n",
      "\n"
     ]
    }
   ],
   "source": [
    "L = inv(E43*E42*E41*E32*E31*E21)"
   ]
  },
  {
   "cell_type": "markdown",
   "id": "c0bc0cdd-c269-4c53-ab27-a0ff32c35b1e",
   "metadata": {},
   "source": [
    "**Exercise: solve $Px = b, b = [1, 0, 0, 0]$**"
   ]
  },
  {
   "cell_type": "code",
   "execution_count": null,
   "id": "aa665541-29ea-4d5a-ae58-39ad9aa8dc01",
   "metadata": {},
   "outputs": [],
   "source": []
  }
 ],
 "metadata": {
  "kernelspec": {
   "display_name": "Octave",
   "language": "octave",
   "name": "octave"
  },
  "language_info": {
   "file_extension": ".m",
   "help_links": [
    {
     "text": "GNU Octave",
     "url": "https://www.gnu.org/software/octave/support.html"
    },
    {
     "text": "Octave Kernel",
     "url": "https://github.com/Calysto/octave_kernel"
    },
    {
     "text": "MetaKernel Magics",
     "url": "https://metakernel.readthedocs.io/en/latest/source/README.html"
    }
   ],
   "mimetype": "text/x-octave",
   "name": "octave",
   "version": "6.4.0"
  }
 },
 "nbformat": 4,
 "nbformat_minor": 5
}
