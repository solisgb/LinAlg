{
 "cells": [
  {
   "cell_type": "markdown",
   "id": "52db094e-ca75-41d2-a953-094d6a6b7e9c",
   "metadata": {},
   "source": [
    "# Introduction to linear algebra. Chapter 2"
   ]
  },
  {
   "cell_type": "markdown",
   "id": "bcbe546b-f8f4-46cf-a782-7f82cc7b47a3",
   "metadata": {},
   "source": [
    "## Matrix multiplication"
   ]
  },
  {
   "cell_type": "code",
   "execution_count": 8,
   "id": "d12d4db9-047f-4e18-a4a0-e51159a95274",
   "metadata": {},
   "outputs": [],
   "source": [
    "import numpy as np\n",
    "np.set_printoptions(precision=3)"
   ]
  },
  {
   "cell_type": "code",
   "execution_count": 13,
   "id": "7fea8410-026a-45c9-953c-fc73ca89e01d",
   "metadata": {},
   "outputs": [],
   "source": [
    "np.random.seed(0)\n",
    "A = np.random.rand(3,3)\n",
    "B = np.random.rand(3,3)"
   ]
  },
  {
   "cell_type": "code",
   "execution_count": 14,
   "id": "c81ff39c-bf9e-4066-b3b0-f1badc8ec86d",
   "metadata": {},
   "outputs": [
    {
     "data": {
      "text/plain": [
       "array([[0.669, 1.109, 0.843],\n",
       "       [0.506, 0.837, 0.856],\n",
       "       [0.758, 1.191, 1.097]])"
      ]
     },
     "execution_count": 14,
     "metadata": {},
     "output_type": "execute_result"
    }
   ],
   "source": [
    "A @ B"
   ]
  },
  {
   "cell_type": "code",
   "execution_count": 20,
   "id": "9aa40031-f9c2-4e77-871d-a355d69f15e7",
   "metadata": {},
   "outputs": [
    {
     "data": {
      "text/plain": [
       "array([[0.669, 1.109, 0.843],\n",
       "       [0.506, 0.837, 0.856],\n",
       "       [0.758, 1.191, 1.097]])"
      ]
     },
     "execution_count": 20,
     "metadata": {},
     "output_type": "execute_result"
    }
   ],
   "source": [
    "# 1. The entry in row i and column j of AB is (row i of A) · ( column j of B)\n",
    "r, c = A.shape\n",
    "AB = np.empty((r, c))\n",
    "for i in range(r):\n",
    "    for j in range(c):\n",
    "         AB[i,j] = np.dot(A[i,:], B[:,j])\n",
    "AB"
   ]
  },
  {
   "cell_type": "code",
   "execution_count": 36,
   "id": "e6e2b7cc-e64c-46aa-8dbc-b5bc506bf2a3",
   "metadata": {},
   "outputs": [
    {
     "data": {
      "text/plain": [
       "array([[0.669, 0.506, 0.758],\n",
       "       [1.109, 0.837, 1.191],\n",
       "       [0.843, 0.856, 1.097]])"
      ]
     },
     "execution_count": 36,
     "metadata": {},
     "output_type": "execute_result"
    }
   ],
   "source": [
    "# 2. Matrix A times every column of B\n",
    "AB = np.array([A @ B[:,0], A @ B[:,1], A @ B[:,2]])\n",
    "AB"
   ]
  },
  {
   "cell_type": "code",
   "execution_count": 38,
   "id": "73527c4d-0d4e-40f0-9fa5-17d33b461f50",
   "metadata": {},
   "outputs": [
    {
     "data": {
      "text/plain": [
       "array([[0.669, 1.109, 0.843],\n",
       "       [0.506, 0.837, 0.856],\n",
       "       [0.758, 1.191, 1.097]])"
      ]
     },
     "execution_count": 38,
     "metadata": {},
     "output_type": "execute_result"
    }
   ],
   "source": [
    "# 3. Every row of A times matrix B\n",
    "AB = np.array([B.T@A[0,:], B.T@A[1,:], B.T@A[2,:]])\n",
    "AB"
   ]
  },
  {
   "cell_type": "code",
   "execution_count": 46,
   "id": "6940c3af-5eb0-45e1-8860-cd562b72c6af",
   "metadata": {},
   "outputs": [
    {
     "data": {
      "text/plain": [
       "array([[2.603, 2.603, 2.603],\n",
       "       [2.603, 2.603, 2.603],\n",
       "       [2.603, 2.603, 2.603]])"
      ]
     },
     "execution_count": 46,
     "metadata": {},
     "output_type": "execute_result"
    }
   ],
   "source": [
    "# 4. Multiply columns 1 to n of A times rows 1 to n of B. Add those matrices\n",
    "AB = np.zeros((r,c))\n",
    "for i in range(r):\n",
    "     AB = AB + (A[:,i].T @ B[i,:].T)\n",
    "AB"
   ]
  },
  {
   "cell_type": "code",
   "execution_count": 47,
   "id": "a3956cd7-c4f5-492c-8382-0525eacf9efb",
   "metadata": {},
   "outputs": [
    {
     "data": {
      "text/plain": [
       "0.873273195292491"
      ]
     },
     "execution_count": 47,
     "metadata": {},
     "output_type": "execute_result"
    }
   ],
   "source": [
    "A[:,0].reshape  @ B[0,:].T"
   ]
  }
 ],
 "metadata": {
  "kernelspec": {
   "display_name": "Python 3 (ipykernel)",
   "language": "python",
   "name": "python3"
  },
  "language_info": {
   "codemirror_mode": {
    "name": "ipython",
    "version": 3
   },
   "file_extension": ".py",
   "mimetype": "text/x-python",
   "name": "python",
   "nbconvert_exporter": "python",
   "pygments_lexer": "ipython3",
   "version": "3.8.12"
  }
 },
 "nbformat": 4,
 "nbformat_minor": 5
}
