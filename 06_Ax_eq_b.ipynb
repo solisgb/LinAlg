{
 "cells": [
  {
   "cell_type": "markdown",
   "id": "c42e79da-a106-4a4b-8be9-2337f34b3672",
   "metadata": {},
   "source": [
    "# Solving Ax = b: row reduced form R"
   ]
  },
  {
   "cell_type": "code",
   "execution_count": 2,
   "id": "a1dfdb27-c168-4223-a55f-223a05bbaf21",
   "metadata": {},
   "outputs": [
    {
     "name": "stdout",
     "output_type": "stream",
     "text": [
      "A =\n",
      "\n",
      "    1    2    2    2\n",
      "    2    4    6    8\n",
      "    3    6    8   10\n",
      "\n"
     ]
    }
   ],
   "source": [
    "A = [1 2 2 2;2 4 6 8; 3 6 8 10]"
   ]
  },
  {
   "cell_type": "markdown",
   "id": "f5b8a631-81f8-4d7e-8b2e-6771ee0ac601",
   "metadata": {},
   "source": [
    "&emsp;$x_1 + 2x_2 + 2x_3 + 2x_4 = b_1$<br>\n",
    "$2x_1 + 4x_2 + 6x_3 + 8x_4 = b_2$<br>\n",
    "$3x_1 + 6x_2 + 8x_3 + 10x_4 = b_3$<br>\n",
    "\n",
    "The augmented matrix is = $[A b]$\n",
    "\n",
    "$\n",
    "\\begin{bmatrix}\n",
    "   1 & 2 & 2 & 2 & b_1 \\\\\n",
    "   2 & 4 & 6 & 8 & b_2 \\\\\n",
    "   3 & 6 & 8 & 10 & b_3 \\\\   \n",
    "\\end{bmatrix}$ by eliminatin we have\n",
    "\n",
    "$\\begin{bmatrix}\n",
    "   1 & 2 & 2 & 2 & b_1 \\\\\n",
    "   0 & 0 & 2 & 4 & b_2-2b_1 \\\\\n",
    "   0 & 0 & 2 & 4 & b_3-3b_1 \\\\   \n",
    "\\end{bmatrix} \\rightarrow\n",
    "\\begin{bmatrix}\n",
    "   1 & 2 & 2 & 2 & b_1 \\\\\n",
    "   0 & 0 & 2 & 4 & b_2-2b_1 \\\\\n",
    "   0 & 0 & 0 & 0 & b_3-b_2-b_1 \\\\   \n",
    "\\end{bmatrix}\n",
    "$\n",
    "\n",
    "The last equation is\n",
    "\n",
    "$0 = b_3 - b_2 - b_1$, that's the condition for solvability, and if our numbers happen to have been 1, 5, 6\n",
    "\n",
    "$b = \n",
    "\\begin{bmatrix}\n",
    "   1 \\\\\n",
    "   5 \\\\\n",
    "   6 \\\\   \n",
    "\\end{bmatrix}\n",
    "$\n",
    "\n",
    "$ \\rightarrow\n",
    "\\begin{bmatrix}\n",
    "   1 & 2 & 2 & 2 & 1 \\\\\n",
    "   0 & 0 & 2 & 4 & 3 \\\\\n",
    "   0 & 0 & 0 & 0 & 0 \\\\   \n",
    "\\end{bmatrix}\n",
    "$\n",
    "\n"
   ]
  },
  {
   "cell_type": "markdown",
   "id": "04403533-408b-45dd-93e0-073c0d1ff26c",
   "metadata": {},
   "source": [
    "## Solvability. Condition on b\n",
    "\n",
    "Ax = b solvable when:\n",
    "\n",
    "* b in in C(A)\n",
    "* If a comb. of the rows of A gives 0 row, then the same comb. of the components of b must give 0\n",
    "\n",
    "The two statements are equivalent"
   ]
  },
  {
   "cell_type": "markdown",
   "id": "2f83062c-c603-4e3f-b124-b40f7d2fdbe6",
   "metadata": {},
   "source": [
    "### To find the complete sol'n to Ax=b\n",
    "\n",
    "1.- One particular solution $x_{particular}$: \n",
    "\n",
    "* Set all free variables to zero<br>\n",
    "* Solve Ax=b for pivot variables\n",
    "\n",
    "In our example:\n",
    "\n",
    "Free variables $x_2 = 0$ and $x_4 = 0$\n",
    "\n",
    "$ x_1 + 2x_3 = 1$<br>\n",
    "$\\hspace{1cm} 2x_3 = 3$<br>\n",
    "$x_3 = 3/2 \\ and \\ x_1 = -2$\n",
    "\n",
    "\n",
    "$x_{particular} = x_p = \n",
    "\\begin{bmatrix}\n",
    "   -2 \\\\\n",
    "    0 \\\\\n",
    "   3/2 \\\\\n",
    "    0 \\\\   \n",
    "\\end{bmatrix}\n",
    "$\n",
    "\n",
    "How I find the rest?\n",
    "\n",
    "2.- $x_{nullspace} = x_n$: \n",
    "\n",
    "The complete solution $x$ will be $x = x_p + x_n$\n",
    "\n",
    "$Ax_p = b$<br>\n",
    "$Ax_n = 0$<br>\n",
    "$A(x_p + x_n) = b$<br>\n",
    "\n",
    "$x_c = \n",
    "\\begin{bmatrix}\n",
    "   -2 \\\\\n",
    "    0 \\\\\n",
    "   3/2 \\\\\n",
    "    0 \\\\   \n",
    "\\end{bmatrix}\n",
    "+ c_1\n",
    "\\begin{bmatrix}\n",
    "   -2 \\\\\n",
    "    1 \\\\\n",
    "    0 \\\\\n",
    "    0 \\\\   \n",
    "\\end{bmatrix}\n",
    "+ c_2\n",
    "\\begin{bmatrix}\n",
    "    2 \\\\\n",
    "    0 \\\\\n",
    "   -2 \\\\\n",
    "    1 \\\\   \n",
    "\\end{bmatrix}\n",
    "$\n"
   ]
  },
  {
   "cell_type": "markdown",
   "id": "6d741675-1fbe-4e4d-b44f-285096936b40",
   "metadata": {},
   "source": [
    "We have a $m times n$ matrix $A$ o rank r (know $r \\leq m, r \\leq n$) \n",
    "\n",
    "Full column ranls $r=n$: No free variables. $N(A)=0, zero vectot$<br>\n",
    "$x_c = x_p$, unique solution if it exists\n",
    "\n",
    "#### Example\n"
   ]
  },
  {
   "cell_type": "code",
   "execution_count": 9,
   "id": "afc14cc2-09af-4c23-bbd5-006ba13431b2",
   "metadata": {},
   "outputs": [
    {
     "name": "stdout",
     "output_type": "stream",
     "text": [
      "A =\n",
      "\n",
      "   1   3\n",
      "   2   1\n",
      "   6   1\n",
      "   5   1\n",
      "\n"
     ]
    }
   ],
   "source": [
    "A = [1 2 6 5 3 1 1 1]; %full column rank\n",
    "A = reshape(A, [4 2])"
   ]
  },
  {
   "cell_type": "code",
   "execution_count": 8,
   "id": "ce83373d-37e5-4d0b-9866-9682055b25ab",
   "metadata": {},
   "outputs": [
    {
     "name": "stdout",
     "output_type": "stream",
     "text": [
      "R =\n",
      "\n",
      "   1   0\n",
      "   0   1\n",
      "   0   0\n",
      "   0   0\n",
      "\n"
     ]
    }
   ],
   "source": [
    "R = rref(A)"
   ]
  },
  {
   "cell_type": "code",
   "execution_count": 10,
   "id": "94d2c4a5-b649-4958-89e8-d993b359f7cb",
   "metadata": {},
   "outputs": [],
   "source": [
    "# min 34"
   ]
  }
 ],
 "metadata": {
  "kernelspec": {
   "display_name": "Octave",
   "language": "octave",
   "name": "octave"
  },
  "language_info": {
   "file_extension": ".m",
   "help_links": [
    {
     "text": "GNU Octave",
     "url": "https://www.gnu.org/software/octave/support.html"
    },
    {
     "text": "Octave Kernel",
     "url": "https://github.com/Calysto/octave_kernel"
    },
    {
     "text": "MetaKernel Magics",
     "url": "https://metakernel.readthedocs.io/en/latest/source/README.html"
    }
   ],
   "mimetype": "text/x-octave",
   "name": "octave",
   "version": "6.4.0"
  }
 },
 "nbformat": 4,
 "nbformat_minor": 5
}
