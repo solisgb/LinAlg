{
 "cells": [
  {
   "cell_type": "markdown",
   "id": "28cdcab6-9961-4369-b7cf-7b4e78ee77e4",
   "metadata": {},
   "source": [
    "# Lecture 09. Independence, basis and dimensions"
   ]
  },
  {
   "cell_type": "code",
   "execution_count": 3,
   "id": "9cd35f79-234d-4d51-823c-7b634510f853",
   "metadata": {},
   "outputs": [
    {
     "name": "stdout",
     "output_type": "stream",
     "text": [
      "A =\n",
      "\n",
      "   1   2   3   1\n",
      "   1   1   2   1\n",
      "   1   2   3   1\n",
      "\n"
     ]
    }
   ],
   "source": [
    "A = [1 2 3 1; 1 1 2 1; 1 2 3 1 ]"
   ]
  },
  {
   "cell_type": "markdown",
   "id": "165fd095-6a0a-41d9-aa54-714b12db1a6d",
   "metadata": {},
   "source": [
    "Do they span de columns space C(A) of that matrix? Yes\n",
    "\n",
    "Are they a basis?, are they independnet? No, there something in that null space N(A)\n",
    "\n",
    "Tell me a vector in the null space of that matrix? solutions for $Ax = b$\n"
   ]
  },
  {
   "cell_type": "code",
   "execution_count": 5,
   "id": "123ae892-e347-4eba-8de9-db4d8059ec31",
   "metadata": {},
   "outputs": [
    {
     "name": "stdout",
     "output_type": "stream",
     "text": [
      "x =\n",
      "\n",
      "  -1\n",
      "  -1\n",
      "   1\n",
      "   0\n",
      "\n",
      "ans =\n",
      "\n",
      "   0\n",
      "   0\n",
      "   0\n",
      "\n"
     ]
    }
   ],
   "source": [
    "x = [-1 -1 1 0]'\n",
    "A*x"
   ]
  },
  {
   "cell_type": "markdown",
   "id": "f659c803-44af-4118-ae19-3f86d33c6e05",
   "metadata": {},
   "source": [
    "Tell me a basis for that column space. Columns 1 and 2\n",
    "\n",
    "The rank of the matrix is 2\n",
    "\n",
    "rank(A) = # pivots columns = dimension of the column space of A C(A)\n",
    "\n",
    "Another basis for C(A). Columns 1 and 3; 1 and 4; many\n",
    "\n",
    "$ \n",
    "\\begin{bmatrix}\n",
    "   2 \\\\\n",
    "   2 \\\\\n",
    "   2 \\\\   \n",
    "\\end{bmatrix}\n",
    ",\n",
    "\\begin{bmatrix}\n",
    "   7 \\\\\n",
    "   5 \\\\\n",
    "   7 \\\\   \n",
    "\\end{bmatrix}\n",
    "$\n"
   ]
  },
  {
   "cell_type": "markdown",
   "id": "344c0ed6-441f-4c6b-8c50-5634925cb0ae",
   "metadata": {},
   "source": [
    "dim C(A) = r (rank)\n",
    "\n",
    "N(A)\n",
    "\n",
    "$ \n",
    "\\begin{bmatrix}\n",
    "  -1 \\\\\n",
    "  -1 \\\\\n",
    "   1 \\\\\n",
    "   0 \\\\   \n",
    "\\end{bmatrix}\n",
    ",\n",
    "\\begin{bmatrix}\n",
    "  -1 \\\\\n",
    "   0 \\\\\n",
    "   0 \\\\\n",
    "   1 \\\\   \n",
    "\\end{bmatrix}\n",
    "$\n",
    "\n",
    "Are they a basis in N(A), yes\n",
    "\n",
    "dim(A) = # free variables = n - r = # free columns = 2"
   ]
  },
  {
   "cell_type": "code",
   "execution_count": null,
   "id": "75e206ce-dd85-4261-9d45-a2cb21a7612c",
   "metadata": {},
   "outputs": [],
   "source": []
  }
 ],
 "metadata": {
  "kernelspec": {
   "display_name": "Octave",
   "language": "octave",
   "name": "octave"
  },
  "language_info": {
   "file_extension": ".m",
   "help_links": [
    {
     "text": "GNU Octave",
     "url": "https://www.gnu.org/software/octave/support.html"
    },
    {
     "text": "Octave Kernel",
     "url": "https://github.com/Calysto/octave_kernel"
    },
    {
     "text": "MetaKernel Magics",
     "url": "https://metakernel.readthedocs.io/en/latest/source/README.html"
    }
   ],
   "mimetype": "text/x-octave",
   "name": "octave",
   "version": "6.4.0"
  }
 },
 "nbformat": 4,
 "nbformat_minor": 5
}
