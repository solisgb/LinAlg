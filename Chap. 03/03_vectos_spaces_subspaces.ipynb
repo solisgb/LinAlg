{
 "cells": [
  {
   "cell_type": "markdown",
   "id": "52812bd9-5033-4d92-a4b2-a88a86848e08",
   "metadata": {},
   "source": [
    "# Chapter 3. Vector Spaces and Subspaces"
   ]
  },
  {
   "cell_type": "markdown",
   "id": "09f9350d-e684-4c5d-a010-8a835e1fa795",
   "metadata": {},
   "source": [
    "## Spaces and Vectors\n",
    "\n",
    "A vector space $V$ is a set that is closed under finite vector addition and scalar multiplication<br>\n",
    "The space $R^n$ consists of all column vectors $v$ with n components. Each component is a real number<br>\n",
    "A vector whose n components are complex numbers lies in the space en $C^n$<br>\n",
    "The two essential vector operations (addition and multiplication) go on inside the vector space, and they produce linear combinations"
   ]
  },
  {
   "cell_type": "markdown",
   "id": "093741a8-75df-45e1-b145-8fabbbd61c66",
   "metadata": {},
   "source": [
    "In order for $V$ to be a vector space, the following conditions must hold for all elements **X,Y,Z** in **V** and any scalars 4r, s in *F* \n",
    "\n",
    "1. Commutativity. **X + Y = Y + X**\n",
    "1. Associativity of vector addition. **(X + Y) + Z = X + (Y + Z)** \n",
    "1. Additive identity. **0 + X = X + 0 = X**\n",
    "1. Additive inverse. For any **X** there exists **-X** such that **X + (-X) = 0**\n",
    "1. Associativity of scalar multiplication. r(s**X**) = (r s) **X**\n",
    "1. Distributivity of scalar sums. (r+s)**X** = r**X** + s**X**\n",
    "1. Distributivity of vector sums r(**X + Y**) = r**X** + r**Y**\n",
    "1. Scalar multiplication identity. **1 X = X**"
   ]
  },
  {
   "cell_type": "markdown",
   "id": "906efcde-aed8-41d9-8708-85add3fb504a",
   "metadata": {},
   "source": [
    "## Subspaces\n",
    "\n",
    "A subspace of a vector space is a set of vectors (including 0) that satisfies two requirements: If v and ware vectors in the subspace and c is any scalar, then: $v + w$ and c$v$ are in the subspace"
   ]
  },
  {
   "cell_type": "markdown",
   "id": "9e7caf61-86fd-498e-80fa-861c9a6ae79a",
   "metadata": {},
   "source": [
    "## The Column Space of $A$\n",
    "\n",
    "The column space consists of all linear combinations of the columns. The combinations are all possible vectors $Ax$. They fill the column space *C(A)*<br>\n",
    "The system $Ax = b$ is solvable if and only if $b$ is in the column space of $A$."
   ]
  },
  {
   "cell_type": "code",
   "execution_count": null,
   "id": "bda6e49e-3ca8-4994-be0b-326b76dac92f",
   "metadata": {},
   "outputs": [],
   "source": []
  }
 ],
 "metadata": {
  "kernelspec": {
   "display_name": "Octave",
   "language": "octave",
   "name": "octave"
  },
  "language_info": {
   "file_extension": ".m",
   "help_links": [
    {
     "text": "GNU Octave",
     "url": "https://www.gnu.org/software/octave/support.html"
    },
    {
     "text": "Octave Kernel",
     "url": "https://github.com/Calysto/octave_kernel"
    },
    {
     "text": "MetaKernel Magics",
     "url": "https://metakernel.readthedocs.io/en/latest/source/README.html"
    }
   ],
   "mimetype": "text/x-octave",
   "name": "octave",
   "version": "6.4.0"
  }
 },
 "nbformat": 4,
 "nbformat_minor": 5
}
